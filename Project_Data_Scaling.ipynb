{
 "cells": [
  {
   "cell_type": "markdown",
   "id": "438bbe0b",
   "metadata": {},
   "source": [
    "# Importing Library"
   ]
  },
  {
   "cell_type": "code",
   "execution_count": 1,
   "id": "bc2500fd",
   "metadata": {},
   "outputs": [],
   "source": [
    "import pandas as pd"
   ]
  },
  {
   "cell_type": "markdown",
   "id": "4e571656",
   "metadata": {},
   "source": [
    "# Load Data"
   ]
  },
  {
   "cell_type": "code",
   "execution_count": 2,
   "id": "d3f86673",
   "metadata": {},
   "outputs": [],
   "source": [
    "df = pd.read_csv(\"E:\\Project_Work\\Test_data.csv\")"
   ]
  },
  {
   "cell_type": "markdown",
   "id": "555388c1",
   "metadata": {},
   "source": [
    "# Shape of Table/Dataframe(Rows & Columns)"
   ]
  },
  {
   "cell_type": "code",
   "execution_count": 3,
   "id": "facfa543",
   "metadata": {},
   "outputs": [
    {
     "name": "stdout",
     "output_type": "stream",
     "text": [
      "Shape of df is (23490, 13)\n",
      "Rows = 23490\n",
      "Columns= 13\n"
     ]
    }
   ],
   "source": [
    "print(\"Shape of df is\", df.shape)\n",
    "print(\"Rows =\",df.shape[0])\n",
    "print(\"Columns=\",df.shape[1])"
   ]
  },
  {
   "cell_type": "markdown",
   "id": "37d6d09f",
   "metadata": {},
   "source": [
    "# Print First 5 Rows of Dataframe"
   ]
  },
  {
   "cell_type": "code",
   "execution_count": 4,
   "id": "d726b6b5",
   "metadata": {},
   "outputs": [
    {
     "data": {
      "text/html": [
       "<div>\n",
       "<style scoped>\n",
       "    .dataframe tbody tr th:only-of-type {\n",
       "        vertical-align: middle;\n",
       "    }\n",
       "\n",
       "    .dataframe tbody tr th {\n",
       "        vertical-align: top;\n",
       "    }\n",
       "\n",
       "    .dataframe thead th {\n",
       "        text-align: right;\n",
       "    }\n",
       "</style>\n",
       "<table border=\"1\" class=\"dataframe\">\n",
       "  <thead>\n",
       "    <tr style=\"text-align: right;\">\n",
       "      <th></th>\n",
       "      <th>employee_id</th>\n",
       "      <th>department</th>\n",
       "      <th>region</th>\n",
       "      <th>education</th>\n",
       "      <th>gender</th>\n",
       "      <th>recruitment_channel</th>\n",
       "      <th>no_of_trainings</th>\n",
       "      <th>age</th>\n",
       "      <th>previous_year_rating</th>\n",
       "      <th>length_of_service</th>\n",
       "      <th>KPIs_met &gt;80%</th>\n",
       "      <th>awards_won?</th>\n",
       "      <th>avg_training_score</th>\n",
       "    </tr>\n",
       "  </thead>\n",
       "  <tbody>\n",
       "    <tr>\n",
       "      <th>0</th>\n",
       "      <td>8724</td>\n",
       "      <td>Technology</td>\n",
       "      <td>region_26</td>\n",
       "      <td>Bachelor's</td>\n",
       "      <td>m</td>\n",
       "      <td>sourcing</td>\n",
       "      <td>1</td>\n",
       "      <td>24</td>\n",
       "      <td>NaN</td>\n",
       "      <td>1</td>\n",
       "      <td>1</td>\n",
       "      <td>0</td>\n",
       "      <td>77</td>\n",
       "    </tr>\n",
       "    <tr>\n",
       "      <th>1</th>\n",
       "      <td>74430</td>\n",
       "      <td>HR</td>\n",
       "      <td>region_4</td>\n",
       "      <td>Bachelor's</td>\n",
       "      <td>f</td>\n",
       "      <td>other</td>\n",
       "      <td>1</td>\n",
       "      <td>31</td>\n",
       "      <td>3.0</td>\n",
       "      <td>5</td>\n",
       "      <td>0</td>\n",
       "      <td>0</td>\n",
       "      <td>51</td>\n",
       "    </tr>\n",
       "    <tr>\n",
       "      <th>2</th>\n",
       "      <td>72255</td>\n",
       "      <td>Sales &amp; Marketing</td>\n",
       "      <td>region_13</td>\n",
       "      <td>Bachelor's</td>\n",
       "      <td>m</td>\n",
       "      <td>other</td>\n",
       "      <td>1</td>\n",
       "      <td>31</td>\n",
       "      <td>1.0</td>\n",
       "      <td>4</td>\n",
       "      <td>0</td>\n",
       "      <td>0</td>\n",
       "      <td>47</td>\n",
       "    </tr>\n",
       "    <tr>\n",
       "      <th>3</th>\n",
       "      <td>38562</td>\n",
       "      <td>Procurement</td>\n",
       "      <td>region_2</td>\n",
       "      <td>Bachelor's</td>\n",
       "      <td>f</td>\n",
       "      <td>other</td>\n",
       "      <td>3</td>\n",
       "      <td>31</td>\n",
       "      <td>2.0</td>\n",
       "      <td>9</td>\n",
       "      <td>0</td>\n",
       "      <td>0</td>\n",
       "      <td>65</td>\n",
       "    </tr>\n",
       "    <tr>\n",
       "      <th>4</th>\n",
       "      <td>64486</td>\n",
       "      <td>Finance</td>\n",
       "      <td>region_29</td>\n",
       "      <td>Bachelor's</td>\n",
       "      <td>m</td>\n",
       "      <td>sourcing</td>\n",
       "      <td>1</td>\n",
       "      <td>30</td>\n",
       "      <td>4.0</td>\n",
       "      <td>7</td>\n",
       "      <td>0</td>\n",
       "      <td>0</td>\n",
       "      <td>61</td>\n",
       "    </tr>\n",
       "  </tbody>\n",
       "</table>\n",
       "</div>"
      ],
      "text/plain": [
       "   employee_id         department     region   education gender  \\\n",
       "0         8724         Technology  region_26  Bachelor's      m   \n",
       "1        74430                 HR   region_4  Bachelor's      f   \n",
       "2        72255  Sales & Marketing  region_13  Bachelor's      m   \n",
       "3        38562        Procurement   region_2  Bachelor's      f   \n",
       "4        64486            Finance  region_29  Bachelor's      m   \n",
       "\n",
       "  recruitment_channel  no_of_trainings  age  previous_year_rating  \\\n",
       "0            sourcing                1   24                   NaN   \n",
       "1               other                1   31                   3.0   \n",
       "2               other                1   31                   1.0   \n",
       "3               other                3   31                   2.0   \n",
       "4            sourcing                1   30                   4.0   \n",
       "\n",
       "   length_of_service  KPIs_met >80%  awards_won?  avg_training_score  \n",
       "0                  1              1            0                  77  \n",
       "1                  5              0            0                  51  \n",
       "2                  4              0            0                  47  \n",
       "3                  9              0            0                  65  \n",
       "4                  7              0            0                  61  "
      ]
     },
     "execution_count": 4,
     "metadata": {},
     "output_type": "execute_result"
    }
   ],
   "source": [
    "df.head()"
   ]
  },
  {
   "cell_type": "markdown",
   "id": "0c396689",
   "metadata": {},
   "source": [
    "# Print Last 5 Rows of Dataframe"
   ]
  },
  {
   "cell_type": "code",
   "execution_count": 5,
   "id": "2b2f05ba",
   "metadata": {},
   "outputs": [
    {
     "data": {
      "text/html": [
       "<div>\n",
       "<style scoped>\n",
       "    .dataframe tbody tr th:only-of-type {\n",
       "        vertical-align: middle;\n",
       "    }\n",
       "\n",
       "    .dataframe tbody tr th {\n",
       "        vertical-align: top;\n",
       "    }\n",
       "\n",
       "    .dataframe thead th {\n",
       "        text-align: right;\n",
       "    }\n",
       "</style>\n",
       "<table border=\"1\" class=\"dataframe\">\n",
       "  <thead>\n",
       "    <tr style=\"text-align: right;\">\n",
       "      <th></th>\n",
       "      <th>employee_id</th>\n",
       "      <th>department</th>\n",
       "      <th>region</th>\n",
       "      <th>education</th>\n",
       "      <th>gender</th>\n",
       "      <th>recruitment_channel</th>\n",
       "      <th>no_of_trainings</th>\n",
       "      <th>age</th>\n",
       "      <th>previous_year_rating</th>\n",
       "      <th>length_of_service</th>\n",
       "      <th>KPIs_met &gt;80%</th>\n",
       "      <th>awards_won?</th>\n",
       "      <th>avg_training_score</th>\n",
       "    </tr>\n",
       "  </thead>\n",
       "  <tbody>\n",
       "    <tr>\n",
       "      <th>23485</th>\n",
       "      <td>53478</td>\n",
       "      <td>Legal</td>\n",
       "      <td>region_2</td>\n",
       "      <td>Below Secondary</td>\n",
       "      <td>m</td>\n",
       "      <td>sourcing</td>\n",
       "      <td>1</td>\n",
       "      <td>24</td>\n",
       "      <td>3.0</td>\n",
       "      <td>1</td>\n",
       "      <td>0</td>\n",
       "      <td>0</td>\n",
       "      <td>61</td>\n",
       "    </tr>\n",
       "    <tr>\n",
       "      <th>23486</th>\n",
       "      <td>25600</td>\n",
       "      <td>Technology</td>\n",
       "      <td>region_25</td>\n",
       "      <td>Bachelor's</td>\n",
       "      <td>m</td>\n",
       "      <td>sourcing</td>\n",
       "      <td>1</td>\n",
       "      <td>31</td>\n",
       "      <td>3.0</td>\n",
       "      <td>7</td>\n",
       "      <td>0</td>\n",
       "      <td>0</td>\n",
       "      <td>74</td>\n",
       "    </tr>\n",
       "    <tr>\n",
       "      <th>23487</th>\n",
       "      <td>45409</td>\n",
       "      <td>HR</td>\n",
       "      <td>region_16</td>\n",
       "      <td>Bachelor's</td>\n",
       "      <td>f</td>\n",
       "      <td>sourcing</td>\n",
       "      <td>1</td>\n",
       "      <td>26</td>\n",
       "      <td>4.0</td>\n",
       "      <td>4</td>\n",
       "      <td>0</td>\n",
       "      <td>0</td>\n",
       "      <td>50</td>\n",
       "    </tr>\n",
       "    <tr>\n",
       "      <th>23488</th>\n",
       "      <td>1186</td>\n",
       "      <td>Procurement</td>\n",
       "      <td>region_31</td>\n",
       "      <td>Bachelor's</td>\n",
       "      <td>m</td>\n",
       "      <td>sourcing</td>\n",
       "      <td>3</td>\n",
       "      <td>27</td>\n",
       "      <td>NaN</td>\n",
       "      <td>1</td>\n",
       "      <td>0</td>\n",
       "      <td>0</td>\n",
       "      <td>70</td>\n",
       "    </tr>\n",
       "    <tr>\n",
       "      <th>23489</th>\n",
       "      <td>5973</td>\n",
       "      <td>Technology</td>\n",
       "      <td>region_17</td>\n",
       "      <td>Master's &amp; above</td>\n",
       "      <td>m</td>\n",
       "      <td>other</td>\n",
       "      <td>3</td>\n",
       "      <td>40</td>\n",
       "      <td>5.0</td>\n",
       "      <td>5</td>\n",
       "      <td>1</td>\n",
       "      <td>0</td>\n",
       "      <td>89</td>\n",
       "    </tr>\n",
       "  </tbody>\n",
       "</table>\n",
       "</div>"
      ],
      "text/plain": [
       "       employee_id   department     region         education gender  \\\n",
       "23485        53478        Legal   region_2   Below Secondary      m   \n",
       "23486        25600   Technology  region_25        Bachelor's      m   \n",
       "23487        45409           HR  region_16        Bachelor's      f   \n",
       "23488         1186  Procurement  region_31        Bachelor's      m   \n",
       "23489         5973   Technology  region_17  Master's & above      m   \n",
       "\n",
       "      recruitment_channel  no_of_trainings  age  previous_year_rating  \\\n",
       "23485            sourcing                1   24                   3.0   \n",
       "23486            sourcing                1   31                   3.0   \n",
       "23487            sourcing                1   26                   4.0   \n",
       "23488            sourcing                3   27                   NaN   \n",
       "23489               other                3   40                   5.0   \n",
       "\n",
       "       length_of_service  KPIs_met >80%  awards_won?  avg_training_score  \n",
       "23485                  1              0            0                  61  \n",
       "23486                  7              0            0                  74  \n",
       "23487                  4              0            0                  50  \n",
       "23488                  1              0            0                  70  \n",
       "23489                  5              1            0                  89  "
      ]
     },
     "execution_count": 5,
     "metadata": {},
     "output_type": "execute_result"
    }
   ],
   "source": [
    "df.tail()"
   ]
  },
  {
   "cell_type": "markdown",
   "id": "e1330a3a",
   "metadata": {},
   "source": [
    "# Print All Column Names of Dataframe"
   ]
  },
  {
   "cell_type": "code",
   "execution_count": 6,
   "id": "109e45ba",
   "metadata": {},
   "outputs": [
    {
     "data": {
      "text/plain": [
       "Index(['employee_id', 'department', 'region', 'education', 'gender',\n",
       "       'recruitment_channel', 'no_of_trainings', 'age', 'previous_year_rating',\n",
       "       'length_of_service', 'KPIs_met >80%', 'awards_won?',\n",
       "       'avg_training_score'],\n",
       "      dtype='object')"
      ]
     },
     "execution_count": 6,
     "metadata": {},
     "output_type": "execute_result"
    }
   ],
   "source": [
    "df.columns"
   ]
  },
  {
   "cell_type": "markdown",
   "id": "4a0caef5",
   "metadata": {},
   "source": [
    "# Print Data Types of All Columns in Dataframe"
   ]
  },
  {
   "cell_type": "code",
   "execution_count": 7,
   "id": "6adc7286",
   "metadata": {},
   "outputs": [
    {
     "data": {
      "text/plain": [
       "employee_id               int64\n",
       "department               object\n",
       "region                   object\n",
       "education                object\n",
       "gender                   object\n",
       "recruitment_channel      object\n",
       "no_of_trainings           int64\n",
       "age                       int64\n",
       "previous_year_rating    float64\n",
       "length_of_service         int64\n",
       "KPIs_met >80%             int64\n",
       "awards_won?               int64\n",
       "avg_training_score        int64\n",
       "dtype: object"
      ]
     },
     "execution_count": 7,
     "metadata": {},
     "output_type": "execute_result"
    }
   ],
   "source": [
    "df.dtypes"
   ]
  },
  {
   "cell_type": "markdown",
   "id": "f9330334",
   "metadata": {},
   "source": [
    "# Check The NULL Values"
   ]
  },
  {
   "cell_type": "code",
   "execution_count": 8,
   "id": "2698a41b",
   "metadata": {},
   "outputs": [
    {
     "data": {
      "text/html": [
       "<div>\n",
       "<style scoped>\n",
       "    .dataframe tbody tr th:only-of-type {\n",
       "        vertical-align: middle;\n",
       "    }\n",
       "\n",
       "    .dataframe tbody tr th {\n",
       "        vertical-align: top;\n",
       "    }\n",
       "\n",
       "    .dataframe thead th {\n",
       "        text-align: right;\n",
       "    }\n",
       "</style>\n",
       "<table border=\"1\" class=\"dataframe\">\n",
       "  <thead>\n",
       "    <tr style=\"text-align: right;\">\n",
       "      <th></th>\n",
       "      <th>employee_id</th>\n",
       "      <th>department</th>\n",
       "      <th>region</th>\n",
       "      <th>education</th>\n",
       "      <th>gender</th>\n",
       "      <th>recruitment_channel</th>\n",
       "      <th>no_of_trainings</th>\n",
       "      <th>age</th>\n",
       "      <th>previous_year_rating</th>\n",
       "      <th>length_of_service</th>\n",
       "      <th>KPIs_met &gt;80%</th>\n",
       "      <th>awards_won?</th>\n",
       "      <th>avg_training_score</th>\n",
       "    </tr>\n",
       "  </thead>\n",
       "  <tbody>\n",
       "    <tr>\n",
       "      <th>0</th>\n",
       "      <td>False</td>\n",
       "      <td>False</td>\n",
       "      <td>False</td>\n",
       "      <td>False</td>\n",
       "      <td>False</td>\n",
       "      <td>False</td>\n",
       "      <td>False</td>\n",
       "      <td>False</td>\n",
       "      <td>True</td>\n",
       "      <td>False</td>\n",
       "      <td>False</td>\n",
       "      <td>False</td>\n",
       "      <td>False</td>\n",
       "    </tr>\n",
       "    <tr>\n",
       "      <th>1</th>\n",
       "      <td>False</td>\n",
       "      <td>False</td>\n",
       "      <td>False</td>\n",
       "      <td>False</td>\n",
       "      <td>False</td>\n",
       "      <td>False</td>\n",
       "      <td>False</td>\n",
       "      <td>False</td>\n",
       "      <td>False</td>\n",
       "      <td>False</td>\n",
       "      <td>False</td>\n",
       "      <td>False</td>\n",
       "      <td>False</td>\n",
       "    </tr>\n",
       "    <tr>\n",
       "      <th>2</th>\n",
       "      <td>False</td>\n",
       "      <td>False</td>\n",
       "      <td>False</td>\n",
       "      <td>False</td>\n",
       "      <td>False</td>\n",
       "      <td>False</td>\n",
       "      <td>False</td>\n",
       "      <td>False</td>\n",
       "      <td>False</td>\n",
       "      <td>False</td>\n",
       "      <td>False</td>\n",
       "      <td>False</td>\n",
       "      <td>False</td>\n",
       "    </tr>\n",
       "    <tr>\n",
       "      <th>3</th>\n",
       "      <td>False</td>\n",
       "      <td>False</td>\n",
       "      <td>False</td>\n",
       "      <td>False</td>\n",
       "      <td>False</td>\n",
       "      <td>False</td>\n",
       "      <td>False</td>\n",
       "      <td>False</td>\n",
       "      <td>False</td>\n",
       "      <td>False</td>\n",
       "      <td>False</td>\n",
       "      <td>False</td>\n",
       "      <td>False</td>\n",
       "    </tr>\n",
       "    <tr>\n",
       "      <th>4</th>\n",
       "      <td>False</td>\n",
       "      <td>False</td>\n",
       "      <td>False</td>\n",
       "      <td>False</td>\n",
       "      <td>False</td>\n",
       "      <td>False</td>\n",
       "      <td>False</td>\n",
       "      <td>False</td>\n",
       "      <td>False</td>\n",
       "      <td>False</td>\n",
       "      <td>False</td>\n",
       "      <td>False</td>\n",
       "      <td>False</td>\n",
       "    </tr>\n",
       "    <tr>\n",
       "      <th>...</th>\n",
       "      <td>...</td>\n",
       "      <td>...</td>\n",
       "      <td>...</td>\n",
       "      <td>...</td>\n",
       "      <td>...</td>\n",
       "      <td>...</td>\n",
       "      <td>...</td>\n",
       "      <td>...</td>\n",
       "      <td>...</td>\n",
       "      <td>...</td>\n",
       "      <td>...</td>\n",
       "      <td>...</td>\n",
       "      <td>...</td>\n",
       "    </tr>\n",
       "    <tr>\n",
       "      <th>23485</th>\n",
       "      <td>False</td>\n",
       "      <td>False</td>\n",
       "      <td>False</td>\n",
       "      <td>False</td>\n",
       "      <td>False</td>\n",
       "      <td>False</td>\n",
       "      <td>False</td>\n",
       "      <td>False</td>\n",
       "      <td>False</td>\n",
       "      <td>False</td>\n",
       "      <td>False</td>\n",
       "      <td>False</td>\n",
       "      <td>False</td>\n",
       "    </tr>\n",
       "    <tr>\n",
       "      <th>23486</th>\n",
       "      <td>False</td>\n",
       "      <td>False</td>\n",
       "      <td>False</td>\n",
       "      <td>False</td>\n",
       "      <td>False</td>\n",
       "      <td>False</td>\n",
       "      <td>False</td>\n",
       "      <td>False</td>\n",
       "      <td>False</td>\n",
       "      <td>False</td>\n",
       "      <td>False</td>\n",
       "      <td>False</td>\n",
       "      <td>False</td>\n",
       "    </tr>\n",
       "    <tr>\n",
       "      <th>23487</th>\n",
       "      <td>False</td>\n",
       "      <td>False</td>\n",
       "      <td>False</td>\n",
       "      <td>False</td>\n",
       "      <td>False</td>\n",
       "      <td>False</td>\n",
       "      <td>False</td>\n",
       "      <td>False</td>\n",
       "      <td>False</td>\n",
       "      <td>False</td>\n",
       "      <td>False</td>\n",
       "      <td>False</td>\n",
       "      <td>False</td>\n",
       "    </tr>\n",
       "    <tr>\n",
       "      <th>23488</th>\n",
       "      <td>False</td>\n",
       "      <td>False</td>\n",
       "      <td>False</td>\n",
       "      <td>False</td>\n",
       "      <td>False</td>\n",
       "      <td>False</td>\n",
       "      <td>False</td>\n",
       "      <td>False</td>\n",
       "      <td>True</td>\n",
       "      <td>False</td>\n",
       "      <td>False</td>\n",
       "      <td>False</td>\n",
       "      <td>False</td>\n",
       "    </tr>\n",
       "    <tr>\n",
       "      <th>23489</th>\n",
       "      <td>False</td>\n",
       "      <td>False</td>\n",
       "      <td>False</td>\n",
       "      <td>False</td>\n",
       "      <td>False</td>\n",
       "      <td>False</td>\n",
       "      <td>False</td>\n",
       "      <td>False</td>\n",
       "      <td>False</td>\n",
       "      <td>False</td>\n",
       "      <td>False</td>\n",
       "      <td>False</td>\n",
       "      <td>False</td>\n",
       "    </tr>\n",
       "  </tbody>\n",
       "</table>\n",
       "<p>23490 rows × 13 columns</p>\n",
       "</div>"
      ],
      "text/plain": [
       "       employee_id  department  region  education  gender  \\\n",
       "0            False       False   False      False   False   \n",
       "1            False       False   False      False   False   \n",
       "2            False       False   False      False   False   \n",
       "3            False       False   False      False   False   \n",
       "4            False       False   False      False   False   \n",
       "...            ...         ...     ...        ...     ...   \n",
       "23485        False       False   False      False   False   \n",
       "23486        False       False   False      False   False   \n",
       "23487        False       False   False      False   False   \n",
       "23488        False       False   False      False   False   \n",
       "23489        False       False   False      False   False   \n",
       "\n",
       "       recruitment_channel  no_of_trainings    age  previous_year_rating  \\\n",
       "0                    False            False  False                  True   \n",
       "1                    False            False  False                 False   \n",
       "2                    False            False  False                 False   \n",
       "3                    False            False  False                 False   \n",
       "4                    False            False  False                 False   \n",
       "...                    ...              ...    ...                   ...   \n",
       "23485                False            False  False                 False   \n",
       "23486                False            False  False                 False   \n",
       "23487                False            False  False                 False   \n",
       "23488                False            False  False                  True   \n",
       "23489                False            False  False                 False   \n",
       "\n",
       "       length_of_service  KPIs_met >80%  awards_won?  avg_training_score  \n",
       "0                  False          False        False               False  \n",
       "1                  False          False        False               False  \n",
       "2                  False          False        False               False  \n",
       "3                  False          False        False               False  \n",
       "4                  False          False        False               False  \n",
       "...                  ...            ...          ...                 ...  \n",
       "23485              False          False        False               False  \n",
       "23486              False          False        False               False  \n",
       "23487              False          False        False               False  \n",
       "23488              False          False        False               False  \n",
       "23489              False          False        False               False  \n",
       "\n",
       "[23490 rows x 13 columns]"
      ]
     },
     "execution_count": 8,
     "metadata": {},
     "output_type": "execute_result"
    }
   ],
   "source": [
    "df.isnull()"
   ]
  },
  {
   "cell_type": "markdown",
   "id": "d26647c2",
   "metadata": {},
   "source": [
    "# Check If A Column Has Atleast One NULL / NA Value"
   ]
  },
  {
   "cell_type": "code",
   "execution_count": 9,
   "id": "5dbd3588",
   "metadata": {},
   "outputs": [
    {
     "data": {
      "text/plain": [
       "employee_id             False\n",
       "department              False\n",
       "region                  False\n",
       "education                True\n",
       "gender                  False\n",
       "recruitment_channel     False\n",
       "no_of_trainings         False\n",
       "age                     False\n",
       "previous_year_rating     True\n",
       "length_of_service       False\n",
       "KPIs_met >80%           False\n",
       "awards_won?             False\n",
       "avg_training_score      False\n",
       "dtype: bool"
      ]
     },
     "execution_count": 9,
     "metadata": {},
     "output_type": "execute_result"
    }
   ],
   "source": [
    "df.isnull().any()"
   ]
  },
  {
   "cell_type": "markdown",
   "id": "be2417ab",
   "metadata": {},
   "source": [
    "# Count The Null Values in Every Column"
   ]
  },
  {
   "cell_type": "code",
   "execution_count": 10,
   "id": "c6c7ac67",
   "metadata": {},
   "outputs": [
    {
     "data": {
      "text/plain": [
       "employee_id                0\n",
       "department                 0\n",
       "region                     0\n",
       "education               1034\n",
       "gender                     0\n",
       "recruitment_channel        0\n",
       "no_of_trainings            0\n",
       "age                        0\n",
       "previous_year_rating    1812\n",
       "length_of_service          0\n",
       "KPIs_met >80%              0\n",
       "awards_won?                0\n",
       "avg_training_score         0\n",
       "dtype: int64"
      ]
     },
     "execution_count": 10,
     "metadata": {},
     "output_type": "execute_result"
    }
   ],
   "source": [
    "df.isnull().sum()"
   ]
  },
  {
   "cell_type": "markdown",
   "id": "17162873",
   "metadata": {},
   "source": [
    "# To Fill All The Null Values in education Column With “No Education”"
   ]
  },
  {
   "cell_type": "code",
   "execution_count": 11,
   "id": "b74ddf8a",
   "metadata": {},
   "outputs": [],
   "source": [
    "df[\"education\"].fillna(\"No Education\", inplace = True)"
   ]
  },
  {
   "cell_type": "markdown",
   "id": "5a0a81be",
   "metadata": {},
   "source": [
    "# To Fill All The Null Values in previous_year_rating Column With “0”"
   ]
  },
  {
   "cell_type": "code",
   "execution_count": 12,
   "id": "3a2baa32",
   "metadata": {},
   "outputs": [],
   "source": [
    "df[\"previous_year_rating\"].fillna(\"0\", inplace = True)"
   ]
  },
  {
   "cell_type": "markdown",
   "id": "1f31670a",
   "metadata": {},
   "source": [
    "# Count The Null Values in Every Column"
   ]
  },
  {
   "cell_type": "code",
   "execution_count": 13,
   "id": "0614203e",
   "metadata": {},
   "outputs": [
    {
     "data": {
      "text/plain": [
       "employee_id             0\n",
       "department              0\n",
       "region                  0\n",
       "education               0\n",
       "gender                  0\n",
       "recruitment_channel     0\n",
       "no_of_trainings         0\n",
       "age                     0\n",
       "previous_year_rating    0\n",
       "length_of_service       0\n",
       "KPIs_met >80%           0\n",
       "awards_won?             0\n",
       "avg_training_score      0\n",
       "dtype: int64"
      ]
     },
     "execution_count": 13,
     "metadata": {},
     "output_type": "execute_result"
    }
   ],
   "source": [
    "df.isnull().sum()"
   ]
  },
  {
   "cell_type": "markdown",
   "id": "84246bb0",
   "metadata": {},
   "source": [
    "# Count The Valid Values (Not NULL Values) in Every Column"
   ]
  },
  {
   "cell_type": "code",
   "execution_count": 14,
   "id": "6b0b371f",
   "metadata": {},
   "outputs": [
    {
     "data": {
      "text/plain": [
       "employee_id             23490\n",
       "department              23490\n",
       "region                  23490\n",
       "education               23490\n",
       "gender                  23490\n",
       "recruitment_channel     23490\n",
       "no_of_trainings         23490\n",
       "age                     23490\n",
       "previous_year_rating    23490\n",
       "length_of_service       23490\n",
       "KPIs_met >80%           23490\n",
       "awards_won?             23490\n",
       "avg_training_score      23490\n",
       "dtype: int64"
      ]
     },
     "execution_count": 14,
     "metadata": {},
     "output_type": "execute_result"
    }
   ],
   "source": [
    "df.count()"
   ]
  },
  {
   "cell_type": "code",
   "execution_count": 15,
   "id": "46cdd71e",
   "metadata": {},
   "outputs": [
    {
     "data": {
      "text/plain": [
       "(23490, 13)"
      ]
     },
     "execution_count": 15,
     "metadata": {},
     "output_type": "execute_result"
    }
   ],
   "source": [
    "df.shape"
   ]
  },
  {
   "cell_type": "markdown",
   "id": "2a751433",
   "metadata": {},
   "source": [
    "# Drop Duplicate Rows"
   ]
  },
  {
   "cell_type": "code",
   "execution_count": 16,
   "id": "e4b0da7d",
   "metadata": {},
   "outputs": [
    {
     "data": {
      "text/plain": [
       "(23490, 13)"
      ]
     },
     "execution_count": 16,
     "metadata": {},
     "output_type": "execute_result"
    }
   ],
   "source": [
    "df.drop_duplicates().shape"
   ]
  },
  {
   "cell_type": "markdown",
   "id": "85f1dd3e",
   "metadata": {},
   "source": [
    "# Data Scaling"
   ]
  },
  {
   "cell_type": "code",
   "execution_count": 17,
   "id": "c7d176ae",
   "metadata": {},
   "outputs": [],
   "source": [
    "df_new = df.drop('employee_id', axis=1)"
   ]
  },
  {
   "cell_type": "markdown",
   "id": "816b51e2",
   "metadata": {},
   "source": [
    "# Separate X & Y\n",
    "X -> Independent Variable\n",
    "Y -> Dependent Variable"
   ]
  },
  {
   "cell_type": "code",
   "execution_count": 18,
   "id": "afdee2eb",
   "metadata": {},
   "outputs": [],
   "source": [
    "X = df_new.drop('KPIs_met >80%', axis=1)\n",
    "Y = df_new['KPIs_met >80%']"
   ]
  },
  {
   "cell_type": "code",
   "execution_count": 19,
   "id": "c338b0d3",
   "metadata": {},
   "outputs": [
    {
     "data": {
      "text/plain": [
       "((23490, 11), (23490,))"
      ]
     },
     "execution_count": 19,
     "metadata": {},
     "output_type": "execute_result"
    }
   ],
   "source": [
    "X.shape, Y.shape"
   ]
  },
  {
   "cell_type": "markdown",
   "id": "7f0fb2c6",
   "metadata": {},
   "source": [
    "# Taking Numerical Columns For Scaling"
   ]
  },
  {
   "cell_type": "code",
   "execution_count": 20,
   "id": "b2c5966e",
   "metadata": {},
   "outputs": [],
   "source": [
    "features = df_new.loc[:, df_new.dtypes != 'object']"
   ]
  },
  {
   "cell_type": "markdown",
   "id": "0cc3b2db",
   "metadata": {},
   "source": [
    "# RobustScaler, StandardScaler, MinMaxScaler, MaxAbsScaler"
   ]
  },
  {
   "cell_type": "markdown",
   "id": "58675adc",
   "metadata": {},
   "source": [
    "# Importing Libraries"
   ]
  },
  {
   "cell_type": "code",
   "execution_count": 21,
   "id": "25870fa3",
   "metadata": {},
   "outputs": [],
   "source": [
    "from sklearn.preprocessing import RobustScaler, StandardScaler, MinMaxScaler, MaxAbsScaler"
   ]
  },
  {
   "cell_type": "markdown",
   "id": "c02ae8f2",
   "metadata": {},
   "source": [
    "# Function To Run The Above Four Scalers"
   ]
  },
  {
   "cell_type": "code",
   "execution_count": 64,
   "id": "71b9b0e4",
   "metadata": {},
   "outputs": [],
   "source": [
    "def scale_dataset(dataset, scaler_names):\n",
    "    scaled_datasets = {}\n",
    "    \n",
    "    for scaler_name in scaler_names:\n",
    "        if scaler_name == 'RobustScaler':\n",
    "            scaler = RobustScaler()\n",
    "        elif scaler_name == 'StandardScaler':\n",
    "            scaler = StandardScaler()\n",
    "        elif scaler_name == 'MinMaxScaler':\n",
    "            scaler = MinMaxScaler()\n",
    "        elif scaler_name == 'MaxAbsScaler':\n",
    "            scaler = MaxAbsScaler()\n",
    "        else:\n",
    "            raise ValueError(f\"Scaler '{scaler_name}' not recognized.\")\n",
    "        \n",
    "        scaled_data = scaler.fit_transform(dataset)\n",
    "        scaled_datasets[scaler_name] = scaled_data\n",
    "    \n",
    "    return scaled_datasets"
   ]
  },
  {
   "cell_type": "markdown",
   "id": "46e3ddcd",
   "metadata": {},
   "source": [
    "# Calling The Function"
   ]
  },
  {
   "cell_type": "code",
   "execution_count": 65,
   "id": "a065bfc8",
   "metadata": {},
   "outputs": [],
   "source": [
    "scaler_names = ['RobustScaler', 'StandardScaler', 'MinMaxScaler', 'MaxAbsScaler']\n",
    "scaled_datasets = scale_dataset(features, scaler_names)"
   ]
  },
  {
   "cell_type": "markdown",
   "id": "6171f5d4",
   "metadata": {},
   "source": [
    "# Access Scaled Dataset By Scaler Name"
   ]
  },
  {
   "cell_type": "code",
   "execution_count": 66,
   "id": "0756425a",
   "metadata": {},
   "outputs": [
    {
     "name": "stdout",
     "output_type": "stream",
     "text": [
      "Scaled dataset using RobustScaler:\n",
      "[[ 0.   -0.9  -1.    1.    0.    0.68]\n",
      " [ 0.   -0.2   0.    0.    0.   -0.36]\n",
      " [ 0.   -0.2  -0.25  0.    0.   -0.52]\n",
      " ...\n",
      " [ 0.   -0.7  -0.25  0.    0.   -0.4 ]\n",
      " [ 2.   -0.6  -1.    0.    0.    0.4 ]\n",
      " [ 2.    0.7   0.    1.    0.    1.16]]\n",
      "Scaled dataset using StandardScaler:\n",
      "[[-0.42309388 -1.40415005 -1.14319985  1.33671517 -0.15266456  1.02426301]\n",
      " [-0.42309388 -0.49261197 -0.19259047 -0.74810253 -0.15266456 -0.91437691]\n",
      " [-0.42309388 -0.49261197 -0.43024281 -0.74810253 -0.15266456 -1.21262921]\n",
      " ...\n",
      " [-0.42309388 -1.1437106  -0.43024281 -0.74810253 -0.15266456 -0.98893999]\n",
      " [ 2.90526356 -1.01349087 -1.14319985 -0.74810253 -0.15266456  0.5023215 ]\n",
      " [ 2.90526356  0.67936557 -0.19259047  1.33671517 -0.15266456  1.9190199 ]]\n",
      "Scaled dataset using MinMaxScaler:\n",
      "[[0.         0.1        0.         1.         0.         0.63333333]\n",
      " [0.         0.275      0.12121212 0.         0.         0.2       ]\n",
      " [0.         0.275      0.09090909 0.         0.         0.13333333]\n",
      " ...\n",
      " [0.         0.15       0.09090909 0.         0.         0.18333333]\n",
      " [0.25       0.175      0.         0.         0.         0.51666667]\n",
      " [0.25       0.5        0.12121212 1.         0.         0.83333333]]\n",
      "Scaled dataset using MaxAbsScaler:\n",
      "[[0.11111111 0.4        0.02941176 1.         0.         0.77777778]\n",
      " [0.11111111 0.51666667 0.14705882 0.         0.         0.51515152]\n",
      " [0.11111111 0.51666667 0.11764706 0.         0.         0.47474747]\n",
      " ...\n",
      " [0.11111111 0.43333333 0.11764706 0.         0.         0.50505051]\n",
      " [0.33333333 0.45       0.02941176 0.         0.         0.70707071]\n",
      " [0.33333333 0.66666667 0.14705882 1.         0.         0.8989899 ]]\n"
     ]
    }
   ],
   "source": [
    "for scaler_name, scaled_data in scaled_datasets.items():\n",
    "    print(f\"Scaled dataset using {scaler_name}:\")\n",
    "    print(scaled_data)"
   ]
  },
  {
   "cell_type": "markdown",
   "id": "6b2b1122",
   "metadata": {},
   "source": [
    "# Converting String Data Type Of Columns Into Numerical Data Type"
   ]
  },
  {
   "cell_type": "code",
   "execution_count": 25,
   "id": "edb5ab22",
   "metadata": {},
   "outputs": [],
   "source": [
    "X_ohe = pd.get_dummies(X)"
   ]
  },
  {
   "cell_type": "code",
   "execution_count": 26,
   "id": "7dd86cbd",
   "metadata": {},
   "outputs": [
    {
     "data": {
      "text/plain": [
       "(23490, 63)"
      ]
     },
     "execution_count": 26,
     "metadata": {},
     "output_type": "execute_result"
    }
   ],
   "source": [
    "X_ohe.shape"
   ]
  },
  {
   "cell_type": "code",
   "execution_count": 27,
   "id": "2b10fbff",
   "metadata": {},
   "outputs": [
    {
     "data": {
      "text/plain": [
       "no_of_trainings             int64\n",
       "age                         int64\n",
       "length_of_service           int64\n",
       "awards_won?                 int64\n",
       "avg_training_score          int64\n",
       "                            ...  \n",
       "previous_year_rating_2.0    uint8\n",
       "previous_year_rating_3.0    uint8\n",
       "previous_year_rating_4.0    uint8\n",
       "previous_year_rating_5.0    uint8\n",
       "previous_year_rating_0      uint8\n",
       "Length: 63, dtype: object"
      ]
     },
     "execution_count": 27,
     "metadata": {},
     "output_type": "execute_result"
    }
   ],
   "source": [
    "X_ohe.dtypes"
   ]
  },
  {
   "cell_type": "markdown",
   "id": "2efb7604",
   "metadata": {},
   "source": [
    "# Train_Test_Split"
   ]
  },
  {
   "cell_type": "code",
   "execution_count": 28,
   "id": "30d2a040",
   "metadata": {},
   "outputs": [],
   "source": [
    "from sklearn.model_selection import train_test_split"
   ]
  },
  {
   "cell_type": "code",
   "execution_count": 29,
   "id": "b85b7f2a",
   "metadata": {},
   "outputs": [],
   "source": [
    "X_train,X_test,Y_train,Y_test = train_test_split(X_ohe,Y,test_size=0.3,\n",
    "                                                 random_state=7)"
   ]
  },
  {
   "cell_type": "code",
   "execution_count": 30,
   "id": "771a540f",
   "metadata": {},
   "outputs": [
    {
     "data": {
      "text/plain": [
       "((16443, 63), (7047, 63), (16443,), (7047,))"
      ]
     },
     "execution_count": 30,
     "metadata": {},
     "output_type": "execute_result"
    }
   ],
   "source": [
    "X_train.shape,X_test.shape,Y_train.shape,Y_test.shape"
   ]
  },
  {
   "cell_type": "markdown",
   "id": "bf18ee71",
   "metadata": {},
   "source": [
    "# Baseline ML Model for Binary Classification Problem"
   ]
  },
  {
   "cell_type": "markdown",
   "id": "31accda0",
   "metadata": {},
   "source": [
    "# 3 models for this problem -  XGBoost, CatBoost, LightGBM"
   ]
  },
  {
   "cell_type": "markdown",
   "id": "7b4aca1b",
   "metadata": {},
   "source": [
    "# Importing Libraries"
   ]
  },
  {
   "cell_type": "code",
   "execution_count": 31,
   "id": "87a53b12",
   "metadata": {},
   "outputs": [
    {
     "name": "stdout",
     "output_type": "stream",
     "text": [
      "Requirement already satisfied: xgboost in c:\\users\\gauta\\anaconda3\\lib\\site-packages (2.0.3)\n",
      "Requirement already satisfied: numpy in c:\\users\\gauta\\anaconda3\\lib\\site-packages (from xgboost) (1.24.3)\n",
      "Requirement already satisfied: scipy in c:\\users\\gauta\\anaconda3\\lib\\site-packages (from xgboost) (1.10.1)\n",
      "Requirement already satisfied: catboost in c:\\users\\gauta\\anaconda3\\lib\\site-packages (1.2.2)\n",
      "Requirement already satisfied: graphviz in c:\\users\\gauta\\anaconda3\\lib\\site-packages (from catboost) (0.20.1)\n",
      "Requirement already satisfied: matplotlib in c:\\users\\gauta\\anaconda3\\lib\\site-packages (from catboost) (3.7.1)\n",
      "Requirement already satisfied: numpy>=1.16.0 in c:\\users\\gauta\\anaconda3\\lib\\site-packages (from catboost) (1.24.3)\n",
      "Requirement already satisfied: pandas>=0.24 in c:\\users\\gauta\\anaconda3\\lib\\site-packages (from catboost) (1.5.3)\n",
      "Requirement already satisfied: scipy in c:\\users\\gauta\\anaconda3\\lib\\site-packages (from catboost) (1.10.1)\n",
      "Requirement already satisfied: plotly in c:\\users\\gauta\\anaconda3\\lib\\site-packages (from catboost) (5.9.0)\n",
      "Requirement already satisfied: six in c:\\users\\gauta\\anaconda3\\lib\\site-packages (from catboost) (1.16.0)\n",
      "Requirement already satisfied: python-dateutil>=2.8.1 in c:\\users\\gauta\\anaconda3\\lib\\site-packages (from pandas>=0.24->catboost) (2.8.2)\n",
      "Requirement already satisfied: pytz>=2020.1 in c:\\users\\gauta\\anaconda3\\lib\\site-packages (from pandas>=0.24->catboost) (2022.7)\n",
      "Requirement already satisfied: contourpy>=1.0.1 in c:\\users\\gauta\\anaconda3\\lib\\site-packages (from matplotlib->catboost) (1.0.5)\n",
      "Requirement already satisfied: cycler>=0.10 in c:\\users\\gauta\\anaconda3\\lib\\site-packages (from matplotlib->catboost) (0.11.0)\n",
      "Requirement already satisfied: fonttools>=4.22.0 in c:\\users\\gauta\\anaconda3\\lib\\site-packages (from matplotlib->catboost) (4.25.0)\n",
      "Requirement already satisfied: kiwisolver>=1.0.1 in c:\\users\\gauta\\anaconda3\\lib\\site-packages (from matplotlib->catboost) (1.4.4)\n",
      "Requirement already satisfied: packaging>=20.0 in c:\\users\\gauta\\anaconda3\\lib\\site-packages (from matplotlib->catboost) (23.0)\n",
      "Requirement already satisfied: pillow>=6.2.0 in c:\\users\\gauta\\anaconda3\\lib\\site-packages (from matplotlib->catboost) (9.4.0)\n",
      "Requirement already satisfied: pyparsing>=2.3.1 in c:\\users\\gauta\\anaconda3\\lib\\site-packages (from matplotlib->catboost) (3.0.9)\n",
      "Requirement already satisfied: tenacity>=6.2.0 in c:\\users\\gauta\\anaconda3\\lib\\site-packages (from plotly->catboost) (8.2.2)\n",
      "Requirement already satisfied: lightgbm in c:\\users\\gauta\\anaconda3\\lib\\site-packages (4.3.0)\n",
      "Requirement already satisfied: numpy in c:\\users\\gauta\\anaconda3\\lib\\site-packages (from lightgbm) (1.24.3)\n",
      "Requirement already satisfied: scipy in c:\\users\\gauta\\anaconda3\\lib\\site-packages (from lightgbm) (1.10.1)\n"
     ]
    }
   ],
   "source": [
    "!pip install xgboost\n",
    "!pip install catboost\n",
    "!pip install lightgbm"
   ]
  },
  {
   "cell_type": "code",
   "execution_count": 32,
   "id": "b8c28a9c",
   "metadata": {},
   "outputs": [],
   "source": [
    "import xgboost as xgb\n",
    "from catboost import CatBoostClassifier\n",
    "import lightgbm as lgb"
   ]
  },
  {
   "cell_type": "code",
   "execution_count": 33,
   "id": "24e5a9bc",
   "metadata": {},
   "outputs": [],
   "source": [
    "from sklearn.metrics import precision_score, recall_score, f1_score\n",
    "from sklearn.metrics import precision_recall_fscore_support\n",
    "from sklearn.metrics import classification_report"
   ]
  },
  {
   "cell_type": "markdown",
   "id": "290432e4",
   "metadata": {},
   "source": [
    "# XGBoost Model"
   ]
  },
  {
   "cell_type": "code",
   "execution_count": 34,
   "id": "06389a5a",
   "metadata": {},
   "outputs": [],
   "source": [
    "xgb_model = xgb.XGBClassifier(random_state = 7)"
   ]
  },
  {
   "cell_type": "code",
   "execution_count": 36,
   "id": "61c2800d",
   "metadata": {},
   "outputs": [
    {
     "data": {
      "text/html": [
       "<style>#sk-container-id-1 {color: black;}#sk-container-id-1 pre{padding: 0;}#sk-container-id-1 div.sk-toggleable {background-color: white;}#sk-container-id-1 label.sk-toggleable__label {cursor: pointer;display: block;width: 100%;margin-bottom: 0;padding: 0.3em;box-sizing: border-box;text-align: center;}#sk-container-id-1 label.sk-toggleable__label-arrow:before {content: \"▸\";float: left;margin-right: 0.25em;color: #696969;}#sk-container-id-1 label.sk-toggleable__label-arrow:hover:before {color: black;}#sk-container-id-1 div.sk-estimator:hover label.sk-toggleable__label-arrow:before {color: black;}#sk-container-id-1 div.sk-toggleable__content {max-height: 0;max-width: 0;overflow: hidden;text-align: left;background-color: #f0f8ff;}#sk-container-id-1 div.sk-toggleable__content pre {margin: 0.2em;color: black;border-radius: 0.25em;background-color: #f0f8ff;}#sk-container-id-1 input.sk-toggleable__control:checked~div.sk-toggleable__content {max-height: 200px;max-width: 100%;overflow: auto;}#sk-container-id-1 input.sk-toggleable__control:checked~label.sk-toggleable__label-arrow:before {content: \"▾\";}#sk-container-id-1 div.sk-estimator input.sk-toggleable__control:checked~label.sk-toggleable__label {background-color: #d4ebff;}#sk-container-id-1 div.sk-label input.sk-toggleable__control:checked~label.sk-toggleable__label {background-color: #d4ebff;}#sk-container-id-1 input.sk-hidden--visually {border: 0;clip: rect(1px 1px 1px 1px);clip: rect(1px, 1px, 1px, 1px);height: 1px;margin: -1px;overflow: hidden;padding: 0;position: absolute;width: 1px;}#sk-container-id-1 div.sk-estimator {font-family: monospace;background-color: #f0f8ff;border: 1px dotted black;border-radius: 0.25em;box-sizing: border-box;margin-bottom: 0.5em;}#sk-container-id-1 div.sk-estimator:hover {background-color: #d4ebff;}#sk-container-id-1 div.sk-parallel-item::after {content: \"\";width: 100%;border-bottom: 1px solid gray;flex-grow: 1;}#sk-container-id-1 div.sk-label:hover label.sk-toggleable__label {background-color: #d4ebff;}#sk-container-id-1 div.sk-serial::before {content: \"\";position: absolute;border-left: 1px solid gray;box-sizing: border-box;top: 0;bottom: 0;left: 50%;z-index: 0;}#sk-container-id-1 div.sk-serial {display: flex;flex-direction: column;align-items: center;background-color: white;padding-right: 0.2em;padding-left: 0.2em;position: relative;}#sk-container-id-1 div.sk-item {position: relative;z-index: 1;}#sk-container-id-1 div.sk-parallel {display: flex;align-items: stretch;justify-content: center;background-color: white;position: relative;}#sk-container-id-1 div.sk-item::before, #sk-container-id-1 div.sk-parallel-item::before {content: \"\";position: absolute;border-left: 1px solid gray;box-sizing: border-box;top: 0;bottom: 0;left: 50%;z-index: -1;}#sk-container-id-1 div.sk-parallel-item {display: flex;flex-direction: column;z-index: 1;position: relative;background-color: white;}#sk-container-id-1 div.sk-parallel-item:first-child::after {align-self: flex-end;width: 50%;}#sk-container-id-1 div.sk-parallel-item:last-child::after {align-self: flex-start;width: 50%;}#sk-container-id-1 div.sk-parallel-item:only-child::after {width: 0;}#sk-container-id-1 div.sk-dashed-wrapped {border: 1px dashed gray;margin: 0 0.4em 0.5em 0.4em;box-sizing: border-box;padding-bottom: 0.4em;background-color: white;}#sk-container-id-1 div.sk-label label {font-family: monospace;font-weight: bold;display: inline-block;line-height: 1.2em;}#sk-container-id-1 div.sk-label-container {text-align: center;}#sk-container-id-1 div.sk-container {/* jupyter's `normalize.less` sets `[hidden] { display: none; }` but bootstrap.min.css set `[hidden] { display: none !important; }` so we also need the `!important` here to be able to override the default hidden behavior on the sphinx rendered scikit-learn.org. See: https://github.com/scikit-learn/scikit-learn/issues/21755 */display: inline-block !important;position: relative;}#sk-container-id-1 div.sk-text-repr-fallback {display: none;}</style><div id=\"sk-container-id-1\" class=\"sk-top-container\"><div class=\"sk-text-repr-fallback\"><pre>XGBClassifier(base_score=None, booster=None, callbacks=None,\n",
       "              colsample_bylevel=None, colsample_bynode=None,\n",
       "              colsample_bytree=None, device=None, early_stopping_rounds=None,\n",
       "              enable_categorical=False, eval_metric=None, feature_types=None,\n",
       "              gamma=None, grow_policy=None, importance_type=None,\n",
       "              interaction_constraints=None, learning_rate=None, max_bin=None,\n",
       "              max_cat_threshold=None, max_cat_to_onehot=None,\n",
       "              max_delta_step=None, max_depth=None, max_leaves=None,\n",
       "              min_child_weight=None, missing=nan, monotone_constraints=None,\n",
       "              multi_strategy=None, n_estimators=None, n_jobs=None,\n",
       "              num_parallel_tree=None, random_state=7, ...)</pre><b>In a Jupyter environment, please rerun this cell to show the HTML representation or trust the notebook. <br />On GitHub, the HTML representation is unable to render, please try loading this page with nbviewer.org.</b></div><div class=\"sk-container\" hidden><div class=\"sk-item\"><div class=\"sk-estimator sk-toggleable\"><input class=\"sk-toggleable__control sk-hidden--visually\" id=\"sk-estimator-id-1\" type=\"checkbox\" checked><label for=\"sk-estimator-id-1\" class=\"sk-toggleable__label sk-toggleable__label-arrow\">XGBClassifier</label><div class=\"sk-toggleable__content\"><pre>XGBClassifier(base_score=None, booster=None, callbacks=None,\n",
       "              colsample_bylevel=None, colsample_bynode=None,\n",
       "              colsample_bytree=None, device=None, early_stopping_rounds=None,\n",
       "              enable_categorical=False, eval_metric=None, feature_types=None,\n",
       "              gamma=None, grow_policy=None, importance_type=None,\n",
       "              interaction_constraints=None, learning_rate=None, max_bin=None,\n",
       "              max_cat_threshold=None, max_cat_to_onehot=None,\n",
       "              max_delta_step=None, max_depth=None, max_leaves=None,\n",
       "              min_child_weight=None, missing=nan, monotone_constraints=None,\n",
       "              multi_strategy=None, n_estimators=None, n_jobs=None,\n",
       "              num_parallel_tree=None, random_state=7, ...)</pre></div></div></div></div></div>"
      ],
      "text/plain": [
       "XGBClassifier(base_score=None, booster=None, callbacks=None,\n",
       "              colsample_bylevel=None, colsample_bynode=None,\n",
       "              colsample_bytree=None, device=None, early_stopping_rounds=None,\n",
       "              enable_categorical=False, eval_metric=None, feature_types=None,\n",
       "              gamma=None, grow_policy=None, importance_type=None,\n",
       "              interaction_constraints=None, learning_rate=None, max_bin=None,\n",
       "              max_cat_threshold=None, max_cat_to_onehot=None,\n",
       "              max_delta_step=None, max_depth=None, max_leaves=None,\n",
       "              min_child_weight=None, missing=nan, monotone_constraints=None,\n",
       "              multi_strategy=None, n_estimators=None, n_jobs=None,\n",
       "              num_parallel_tree=None, random_state=7, ...)"
      ]
     },
     "execution_count": 36,
     "metadata": {},
     "output_type": "execute_result"
    }
   ],
   "source": [
    "xgb_model.fit(X_train, Y_train)"
   ]
  },
  {
   "cell_type": "code",
   "execution_count": 46,
   "id": "ab1cc9bf",
   "metadata": {},
   "outputs": [],
   "source": [
    "xgb_pred = xgb_model.predict(X_test)"
   ]
  },
  {
   "cell_type": "code",
   "execution_count": 47,
   "id": "1039d5ee",
   "metadata": {},
   "outputs": [
    {
     "data": {
      "text/plain": [
       "0.7088122605363985"
      ]
     },
     "execution_count": 47,
     "metadata": {},
     "output_type": "execute_result"
    }
   ],
   "source": [
    "f1_score(Y_test,xgb_pred, average=\"micro\" )"
   ]
  },
  {
   "cell_type": "code",
   "execution_count": 48,
   "id": "1f12ad62",
   "metadata": {},
   "outputs": [
    {
     "name": "stdout",
     "output_type": "stream",
     "text": [
      "              precision    recall  f1-score   support\n",
      "\n",
      "           0       0.73      0.85      0.79      4510\n",
      "           1       0.63      0.45      0.53      2537\n",
      "\n",
      "    accuracy                           0.71      7047\n",
      "   macro avg       0.68      0.65      0.66      7047\n",
      "weighted avg       0.70      0.71      0.70      7047\n",
      "\n"
     ]
    }
   ],
   "source": [
    "print(classification_report(Y_test,xgb_pred ))"
   ]
  },
  {
   "cell_type": "markdown",
   "id": "b5205ddf",
   "metadata": {},
   "source": [
    "# CATBoost Model"
   ]
  },
  {
   "cell_type": "code",
   "execution_count": 49,
   "id": "9c9c302d",
   "metadata": {},
   "outputs": [],
   "source": [
    "catboost_model = CatBoostClassifier(random_state=7)"
   ]
  },
  {
   "cell_type": "code",
   "execution_count": 50,
   "id": "9192a645",
   "metadata": {},
   "outputs": [
    {
     "name": "stdout",
     "output_type": "stream",
     "text": [
      "Learning rate set to 0.034053\n",
      "0:\tlearn: 0.6859043\ttotal: 20.6ms\tremaining: 20.6s\n",
      "1:\tlearn: 0.6784043\ttotal: 43.4ms\tremaining: 21.7s\n",
      "2:\tlearn: 0.6711643\ttotal: 64.9ms\tremaining: 21.6s\n",
      "3:\tlearn: 0.6647089\ttotal: 86.2ms\tremaining: 21.5s\n",
      "4:\tlearn: 0.6587531\ttotal: 111ms\tremaining: 22s\n",
      "5:\tlearn: 0.6527531\ttotal: 132ms\tremaining: 21.9s\n",
      "6:\tlearn: 0.6473035\ttotal: 154ms\tremaining: 21.9s\n",
      "7:\tlearn: 0.6425286\ttotal: 176ms\tremaining: 21.8s\n",
      "8:\tlearn: 0.6376050\ttotal: 199ms\tremaining: 21.9s\n",
      "9:\tlearn: 0.6333907\ttotal: 217ms\tremaining: 21.4s\n",
      "10:\tlearn: 0.6302057\ttotal: 232ms\tremaining: 20.8s\n",
      "11:\tlearn: 0.6261550\ttotal: 255ms\tremaining: 21s\n",
      "12:\tlearn: 0.6228153\ttotal: 276ms\tremaining: 20.9s\n",
      "13:\tlearn: 0.6205507\ttotal: 291ms\tremaining: 20.5s\n",
      "14:\tlearn: 0.6174229\ttotal: 312ms\tremaining: 20.5s\n",
      "15:\tlearn: 0.6140456\ttotal: 333ms\tremaining: 20.5s\n",
      "16:\tlearn: 0.6115929\ttotal: 356ms\tremaining: 20.6s\n",
      "17:\tlearn: 0.6089525\ttotal: 377ms\tremaining: 20.6s\n",
      "18:\tlearn: 0.6065194\ttotal: 398ms\tremaining: 20.6s\n",
      "19:\tlearn: 0.6044795\ttotal: 425ms\tremaining: 20.8s\n",
      "20:\tlearn: 0.6026379\ttotal: 444ms\tremaining: 20.7s\n",
      "21:\tlearn: 0.6004413\ttotal: 463ms\tremaining: 20.6s\n",
      "22:\tlearn: 0.5987579\ttotal: 482ms\tremaining: 20.5s\n",
      "23:\tlearn: 0.5970181\ttotal: 501ms\tremaining: 20.4s\n",
      "24:\tlearn: 0.5954320\ttotal: 521ms\tremaining: 20.3s\n",
      "25:\tlearn: 0.5934603\ttotal: 541ms\tremaining: 20.3s\n",
      "26:\tlearn: 0.5920510\ttotal: 561ms\tremaining: 20.2s\n",
      "27:\tlearn: 0.5907642\ttotal: 579ms\tremaining: 20.1s\n",
      "28:\tlearn: 0.5893949\ttotal: 599ms\tremaining: 20.1s\n",
      "29:\tlearn: 0.5881448\ttotal: 622ms\tremaining: 20.1s\n",
      "30:\tlearn: 0.5870565\ttotal: 642ms\tremaining: 20.1s\n",
      "31:\tlearn: 0.5859426\ttotal: 662ms\tremaining: 20s\n",
      "32:\tlearn: 0.5849487\ttotal: 682ms\tremaining: 20s\n",
      "33:\tlearn: 0.5839626\ttotal: 702ms\tremaining: 19.9s\n",
      "34:\tlearn: 0.5831122\ttotal: 722ms\tremaining: 19.9s\n",
      "35:\tlearn: 0.5824045\ttotal: 743ms\tremaining: 19.9s\n",
      "36:\tlearn: 0.5815583\ttotal: 763ms\tremaining: 19.9s\n",
      "37:\tlearn: 0.5808859\ttotal: 783ms\tremaining: 19.8s\n",
      "38:\tlearn: 0.5801697\ttotal: 804ms\tremaining: 19.8s\n",
      "39:\tlearn: 0.5796622\ttotal: 824ms\tremaining: 19.8s\n",
      "40:\tlearn: 0.5788363\ttotal: 843ms\tremaining: 19.7s\n",
      "41:\tlearn: 0.5783693\ttotal: 863ms\tremaining: 19.7s\n",
      "42:\tlearn: 0.5775161\ttotal: 883ms\tremaining: 19.6s\n",
      "43:\tlearn: 0.5768939\ttotal: 902ms\tremaining: 19.6s\n",
      "44:\tlearn: 0.5763720\ttotal: 924ms\tremaining: 19.6s\n",
      "45:\tlearn: 0.5758498\ttotal: 944ms\tremaining: 19.6s\n",
      "46:\tlearn: 0.5751977\ttotal: 966ms\tremaining: 19.6s\n",
      "47:\tlearn: 0.5746923\ttotal: 986ms\tremaining: 19.5s\n",
      "48:\tlearn: 0.5742790\ttotal: 1s\tremaining: 19.5s\n",
      "49:\tlearn: 0.5738035\ttotal: 1.02s\tremaining: 19.5s\n",
      "50:\tlearn: 0.5733845\ttotal: 1.05s\tremaining: 19.5s\n",
      "51:\tlearn: 0.5729471\ttotal: 1.07s\tremaining: 19.5s\n",
      "52:\tlearn: 0.5724032\ttotal: 1.09s\tremaining: 19.5s\n",
      "53:\tlearn: 0.5720903\ttotal: 1.11s\tremaining: 19.4s\n",
      "54:\tlearn: 0.5715285\ttotal: 1.13s\tremaining: 19.5s\n",
      "55:\tlearn: 0.5711598\ttotal: 1.15s\tremaining: 19.4s\n",
      "56:\tlearn: 0.5708696\ttotal: 1.17s\tremaining: 19.4s\n",
      "57:\tlearn: 0.5705086\ttotal: 1.19s\tremaining: 19.3s\n",
      "58:\tlearn: 0.5701765\ttotal: 1.21s\tremaining: 19.3s\n",
      "59:\tlearn: 0.5698831\ttotal: 1.23s\tremaining: 19.3s\n",
      "60:\tlearn: 0.5695323\ttotal: 1.25s\tremaining: 19.3s\n",
      "61:\tlearn: 0.5691435\ttotal: 1.27s\tremaining: 19.2s\n",
      "62:\tlearn: 0.5688892\ttotal: 1.29s\tremaining: 19.2s\n",
      "63:\tlearn: 0.5686517\ttotal: 1.31s\tremaining: 19.2s\n",
      "64:\tlearn: 0.5683228\ttotal: 1.33s\tremaining: 19.1s\n",
      "65:\tlearn: 0.5681571\ttotal: 1.35s\tremaining: 19.1s\n",
      "66:\tlearn: 0.5678529\ttotal: 1.37s\tremaining: 19.1s\n",
      "67:\tlearn: 0.5675642\ttotal: 1.39s\tremaining: 19.1s\n",
      "68:\tlearn: 0.5672565\ttotal: 1.41s\tremaining: 19.1s\n",
      "69:\tlearn: 0.5669063\ttotal: 1.43s\tremaining: 19s\n",
      "70:\tlearn: 0.5664419\ttotal: 1.45s\tremaining: 19s\n",
      "71:\tlearn: 0.5660928\ttotal: 1.47s\tremaining: 19s\n",
      "72:\tlearn: 0.5658603\ttotal: 1.5s\tremaining: 19s\n",
      "73:\tlearn: 0.5656930\ttotal: 1.52s\tremaining: 19s\n",
      "74:\tlearn: 0.5653882\ttotal: 1.54s\tremaining: 19s\n",
      "75:\tlearn: 0.5651632\ttotal: 1.56s\tremaining: 18.9s\n",
      "76:\tlearn: 0.5650126\ttotal: 1.58s\tremaining: 18.9s\n",
      "77:\tlearn: 0.5649133\ttotal: 1.6s\tremaining: 18.9s\n",
      "78:\tlearn: 0.5647558\ttotal: 1.62s\tremaining: 18.9s\n",
      "79:\tlearn: 0.5645128\ttotal: 1.64s\tremaining: 18.9s\n",
      "80:\tlearn: 0.5643752\ttotal: 1.66s\tremaining: 18.8s\n",
      "81:\tlearn: 0.5641088\ttotal: 1.68s\tremaining: 18.8s\n",
      "82:\tlearn: 0.5637734\ttotal: 1.7s\tremaining: 18.8s\n",
      "83:\tlearn: 0.5635175\ttotal: 1.72s\tremaining: 18.8s\n",
      "84:\tlearn: 0.5633035\ttotal: 1.74s\tremaining: 18.8s\n",
      "85:\tlearn: 0.5630411\ttotal: 1.76s\tremaining: 18.8s\n",
      "86:\tlearn: 0.5628442\ttotal: 1.78s\tremaining: 18.7s\n",
      "87:\tlearn: 0.5624798\ttotal: 1.8s\tremaining: 18.7s\n",
      "88:\tlearn: 0.5621290\ttotal: 1.82s\tremaining: 18.7s\n",
      "89:\tlearn: 0.5619259\ttotal: 1.84s\tremaining: 18.6s\n",
      "90:\tlearn: 0.5617286\ttotal: 1.86s\tremaining: 18.6s\n",
      "91:\tlearn: 0.5615690\ttotal: 1.88s\tremaining: 18.6s\n",
      "92:\tlearn: 0.5614072\ttotal: 1.9s\tremaining: 18.6s\n",
      "93:\tlearn: 0.5612458\ttotal: 1.92s\tremaining: 18.5s\n",
      "94:\tlearn: 0.5611577\ttotal: 1.94s\tremaining: 18.5s\n",
      "95:\tlearn: 0.5608583\ttotal: 1.96s\tremaining: 18.5s\n",
      "96:\tlearn: 0.5605913\ttotal: 1.98s\tremaining: 18.5s\n",
      "97:\tlearn: 0.5605053\ttotal: 2s\tremaining: 18.4s\n",
      "98:\tlearn: 0.5603367\ttotal: 2.02s\tremaining: 18.4s\n",
      "99:\tlearn: 0.5601855\ttotal: 2.04s\tremaining: 18.4s\n",
      "100:\tlearn: 0.5598815\ttotal: 2.06s\tremaining: 18.4s\n",
      "101:\tlearn: 0.5596216\ttotal: 2.08s\tremaining: 18.4s\n",
      "102:\tlearn: 0.5595150\ttotal: 2.1s\tremaining: 18.3s\n",
      "103:\tlearn: 0.5593470\ttotal: 2.12s\tremaining: 18.3s\n",
      "104:\tlearn: 0.5591166\ttotal: 2.14s\tremaining: 18.3s\n",
      "105:\tlearn: 0.5589479\ttotal: 2.16s\tremaining: 18.2s\n",
      "106:\tlearn: 0.5588011\ttotal: 2.18s\tremaining: 18.2s\n",
      "107:\tlearn: 0.5586971\ttotal: 2.2s\tremaining: 18.2s\n",
      "108:\tlearn: 0.5584674\ttotal: 2.23s\tremaining: 18.2s\n",
      "109:\tlearn: 0.5583719\ttotal: 2.25s\tremaining: 18.2s\n",
      "110:\tlearn: 0.5582913\ttotal: 2.27s\tremaining: 18.2s\n",
      "111:\tlearn: 0.5581753\ttotal: 2.29s\tremaining: 18.1s\n",
      "112:\tlearn: 0.5579648\ttotal: 2.31s\tremaining: 18.1s\n",
      "113:\tlearn: 0.5578529\ttotal: 2.33s\tremaining: 18.1s\n",
      "114:\tlearn: 0.5577519\ttotal: 2.35s\tremaining: 18.1s\n",
      "115:\tlearn: 0.5576386\ttotal: 2.36s\tremaining: 18s\n",
      "116:\tlearn: 0.5575272\ttotal: 2.38s\tremaining: 18s\n",
      "117:\tlearn: 0.5574153\ttotal: 2.4s\tremaining: 17.9s\n",
      "118:\tlearn: 0.5571860\ttotal: 2.41s\tremaining: 17.9s\n",
      "119:\tlearn: 0.5569850\ttotal: 2.43s\tremaining: 17.8s\n",
      "120:\tlearn: 0.5568310\ttotal: 2.45s\tremaining: 17.8s\n",
      "121:\tlearn: 0.5566280\ttotal: 2.47s\tremaining: 17.8s\n",
      "122:\tlearn: 0.5564441\ttotal: 2.49s\tremaining: 17.7s\n",
      "123:\tlearn: 0.5563030\ttotal: 2.5s\tremaining: 17.7s\n",
      "124:\tlearn: 0.5561685\ttotal: 2.53s\tremaining: 17.7s\n",
      "125:\tlearn: 0.5560086\ttotal: 2.55s\tremaining: 17.7s\n",
      "126:\tlearn: 0.5559223\ttotal: 2.56s\tremaining: 17.6s\n",
      "127:\tlearn: 0.5557720\ttotal: 2.59s\tremaining: 17.6s\n",
      "128:\tlearn: 0.5556267\ttotal: 2.61s\tremaining: 17.6s\n",
      "129:\tlearn: 0.5555427\ttotal: 2.63s\tremaining: 17.6s\n",
      "130:\tlearn: 0.5554293\ttotal: 2.65s\tremaining: 17.6s\n",
      "131:\tlearn: 0.5552781\ttotal: 2.67s\tremaining: 17.6s\n",
      "132:\tlearn: 0.5551218\ttotal: 2.69s\tremaining: 17.6s\n",
      "133:\tlearn: 0.5549687\ttotal: 2.71s\tremaining: 17.5s\n",
      "134:\tlearn: 0.5548989\ttotal: 2.73s\tremaining: 17.5s\n",
      "135:\tlearn: 0.5548207\ttotal: 2.75s\tremaining: 17.5s\n",
      "136:\tlearn: 0.5547335\ttotal: 2.77s\tremaining: 17.5s\n",
      "137:\tlearn: 0.5545888\ttotal: 2.79s\tremaining: 17.5s\n",
      "138:\tlearn: 0.5544805\ttotal: 2.81s\tremaining: 17.4s\n",
      "139:\tlearn: 0.5543553\ttotal: 2.83s\tremaining: 17.4s\n",
      "140:\tlearn: 0.5541925\ttotal: 2.86s\tremaining: 17.4s\n",
      "141:\tlearn: 0.5540207\ttotal: 2.88s\tremaining: 17.4s\n",
      "142:\tlearn: 0.5539157\ttotal: 2.9s\tremaining: 17.4s\n",
      "143:\tlearn: 0.5538256\ttotal: 2.92s\tremaining: 17.3s\n",
      "144:\tlearn: 0.5536700\ttotal: 2.94s\tremaining: 17.3s\n",
      "145:\tlearn: 0.5535027\ttotal: 2.96s\tremaining: 17.3s\n",
      "146:\tlearn: 0.5534385\ttotal: 2.98s\tremaining: 17.3s\n",
      "147:\tlearn: 0.5533447\ttotal: 3s\tremaining: 17.3s\n",
      "148:\tlearn: 0.5532025\ttotal: 3.02s\tremaining: 17.3s\n",
      "149:\tlearn: 0.5530687\ttotal: 3.05s\tremaining: 17.3s\n",
      "150:\tlearn: 0.5528895\ttotal: 3.07s\tremaining: 17.3s\n",
      "151:\tlearn: 0.5528025\ttotal: 3.09s\tremaining: 17.2s\n",
      "152:\tlearn: 0.5526268\ttotal: 3.1s\tremaining: 17.2s\n",
      "153:\tlearn: 0.5525249\ttotal: 3.12s\tremaining: 17.1s\n",
      "154:\tlearn: 0.5524411\ttotal: 3.14s\tremaining: 17.1s\n",
      "155:\tlearn: 0.5523682\ttotal: 3.16s\tremaining: 17.1s\n",
      "156:\tlearn: 0.5521976\ttotal: 3.18s\tremaining: 17.1s\n",
      "157:\tlearn: 0.5520572\ttotal: 3.2s\tremaining: 17.1s\n",
      "158:\tlearn: 0.5517778\ttotal: 3.22s\tremaining: 17s\n",
      "159:\tlearn: 0.5516688\ttotal: 3.24s\tremaining: 17s\n",
      "160:\tlearn: 0.5515318\ttotal: 3.26s\tremaining: 17s\n",
      "161:\tlearn: 0.5514569\ttotal: 3.28s\tremaining: 17s\n",
      "162:\tlearn: 0.5513927\ttotal: 3.3s\tremaining: 16.9s\n",
      "163:\tlearn: 0.5512899\ttotal: 3.32s\tremaining: 16.9s\n",
      "164:\tlearn: 0.5512238\ttotal: 3.34s\tremaining: 16.9s\n",
      "165:\tlearn: 0.5511101\ttotal: 3.35s\tremaining: 16.9s\n"
     ]
    },
    {
     "name": "stdout",
     "output_type": "stream",
     "text": [
      "166:\tlearn: 0.5510580\ttotal: 3.37s\tremaining: 16.8s\n",
      "167:\tlearn: 0.5508789\ttotal: 3.39s\tremaining: 16.8s\n",
      "168:\tlearn: 0.5507373\ttotal: 3.41s\tremaining: 16.8s\n",
      "169:\tlearn: 0.5506750\ttotal: 3.43s\tremaining: 16.8s\n",
      "170:\tlearn: 0.5505331\ttotal: 3.45s\tremaining: 16.7s\n",
      "171:\tlearn: 0.5504631\ttotal: 3.47s\tremaining: 16.7s\n",
      "172:\tlearn: 0.5502798\ttotal: 3.49s\tremaining: 16.7s\n",
      "173:\tlearn: 0.5501971\ttotal: 3.51s\tremaining: 16.7s\n",
      "174:\tlearn: 0.5500831\ttotal: 3.53s\tremaining: 16.6s\n",
      "175:\tlearn: 0.5499691\ttotal: 3.55s\tremaining: 16.6s\n",
      "176:\tlearn: 0.5498841\ttotal: 3.57s\tremaining: 16.6s\n",
      "177:\tlearn: 0.5497818\ttotal: 3.59s\tremaining: 16.6s\n",
      "178:\tlearn: 0.5496690\ttotal: 3.61s\tremaining: 16.6s\n",
      "179:\tlearn: 0.5495983\ttotal: 3.63s\tremaining: 16.6s\n",
      "180:\tlearn: 0.5495505\ttotal: 3.65s\tremaining: 16.5s\n",
      "181:\tlearn: 0.5493778\ttotal: 3.67s\tremaining: 16.5s\n",
      "182:\tlearn: 0.5493378\ttotal: 3.69s\tremaining: 16.5s\n",
      "183:\tlearn: 0.5492379\ttotal: 3.72s\tremaining: 16.5s\n",
      "184:\tlearn: 0.5491757\ttotal: 3.74s\tremaining: 16.5s\n",
      "185:\tlearn: 0.5490602\ttotal: 3.76s\tremaining: 16.5s\n",
      "186:\tlearn: 0.5489660\ttotal: 3.78s\tremaining: 16.4s\n",
      "187:\tlearn: 0.5489145\ttotal: 3.8s\tremaining: 16.4s\n",
      "188:\tlearn: 0.5488143\ttotal: 3.82s\tremaining: 16.4s\n",
      "189:\tlearn: 0.5486775\ttotal: 3.84s\tremaining: 16.4s\n",
      "190:\tlearn: 0.5486240\ttotal: 3.86s\tremaining: 16.3s\n",
      "191:\tlearn: 0.5483883\ttotal: 3.87s\tremaining: 16.3s\n",
      "192:\tlearn: 0.5483133\ttotal: 3.89s\tremaining: 16.3s\n",
      "193:\tlearn: 0.5482089\ttotal: 3.91s\tremaining: 16.3s\n",
      "194:\tlearn: 0.5481064\ttotal: 3.93s\tremaining: 16.2s\n",
      "195:\tlearn: 0.5479623\ttotal: 3.95s\tremaining: 16.2s\n",
      "196:\tlearn: 0.5478102\ttotal: 3.97s\tremaining: 16.2s\n",
      "197:\tlearn: 0.5476794\ttotal: 3.99s\tremaining: 16.2s\n",
      "198:\tlearn: 0.5475960\ttotal: 4.01s\tremaining: 16.1s\n",
      "199:\tlearn: 0.5475001\ttotal: 4.03s\tremaining: 16.1s\n",
      "200:\tlearn: 0.5473972\ttotal: 4.05s\tremaining: 16.1s\n",
      "201:\tlearn: 0.5473839\ttotal: 4.06s\tremaining: 16.1s\n",
      "202:\tlearn: 0.5472491\ttotal: 4.08s\tremaining: 16s\n",
      "203:\tlearn: 0.5471217\ttotal: 4.1s\tremaining: 16s\n",
      "204:\tlearn: 0.5469933\ttotal: 4.12s\tremaining: 16s\n",
      "205:\tlearn: 0.5468598\ttotal: 4.14s\tremaining: 16s\n",
      "206:\tlearn: 0.5467338\ttotal: 4.16s\tremaining: 15.9s\n",
      "207:\tlearn: 0.5466670\ttotal: 4.18s\tremaining: 15.9s\n",
      "208:\tlearn: 0.5465962\ttotal: 4.2s\tremaining: 15.9s\n",
      "209:\tlearn: 0.5464810\ttotal: 4.22s\tremaining: 15.9s\n",
      "210:\tlearn: 0.5464300\ttotal: 4.24s\tremaining: 15.9s\n",
      "211:\tlearn: 0.5462535\ttotal: 4.26s\tremaining: 15.8s\n",
      "212:\tlearn: 0.5461373\ttotal: 4.28s\tremaining: 15.8s\n",
      "213:\tlearn: 0.5459594\ttotal: 4.3s\tremaining: 15.8s\n",
      "214:\tlearn: 0.5458732\ttotal: 4.32s\tremaining: 15.8s\n",
      "215:\tlearn: 0.5457715\ttotal: 4.34s\tremaining: 15.8s\n",
      "216:\tlearn: 0.5456931\ttotal: 4.36s\tremaining: 15.7s\n",
      "217:\tlearn: 0.5455555\ttotal: 4.38s\tremaining: 15.7s\n",
      "218:\tlearn: 0.5454556\ttotal: 4.4s\tremaining: 15.7s\n",
      "219:\tlearn: 0.5453801\ttotal: 4.42s\tremaining: 15.7s\n",
      "220:\tlearn: 0.5452743\ttotal: 4.44s\tremaining: 15.7s\n",
      "221:\tlearn: 0.5451681\ttotal: 4.46s\tremaining: 15.6s\n",
      "222:\tlearn: 0.5450498\ttotal: 4.48s\tremaining: 15.6s\n",
      "223:\tlearn: 0.5449514\ttotal: 4.5s\tremaining: 15.6s\n",
      "224:\tlearn: 0.5448334\ttotal: 4.52s\tremaining: 15.6s\n",
      "225:\tlearn: 0.5447159\ttotal: 4.54s\tremaining: 15.6s\n",
      "226:\tlearn: 0.5446344\ttotal: 4.56s\tremaining: 15.5s\n",
      "227:\tlearn: 0.5445538\ttotal: 4.58s\tremaining: 15.5s\n",
      "228:\tlearn: 0.5444632\ttotal: 4.6s\tremaining: 15.5s\n",
      "229:\tlearn: 0.5443275\ttotal: 4.62s\tremaining: 15.5s\n",
      "230:\tlearn: 0.5442259\ttotal: 4.64s\tremaining: 15.4s\n",
      "231:\tlearn: 0.5441125\ttotal: 4.66s\tremaining: 15.4s\n",
      "232:\tlearn: 0.5440342\ttotal: 4.68s\tremaining: 15.4s\n",
      "233:\tlearn: 0.5438962\ttotal: 4.7s\tremaining: 15.4s\n",
      "234:\tlearn: 0.5438545\ttotal: 4.72s\tremaining: 15.4s\n",
      "235:\tlearn: 0.5437789\ttotal: 4.74s\tremaining: 15.3s\n",
      "236:\tlearn: 0.5437187\ttotal: 4.75s\tremaining: 15.3s\n",
      "237:\tlearn: 0.5436451\ttotal: 4.77s\tremaining: 15.3s\n",
      "238:\tlearn: 0.5435943\ttotal: 4.79s\tremaining: 15.3s\n",
      "239:\tlearn: 0.5434849\ttotal: 4.81s\tremaining: 15.2s\n",
      "240:\tlearn: 0.5434219\ttotal: 4.83s\tremaining: 15.2s\n",
      "241:\tlearn: 0.5433581\ttotal: 4.85s\tremaining: 15.2s\n",
      "242:\tlearn: 0.5432394\ttotal: 4.87s\tremaining: 15.2s\n",
      "243:\tlearn: 0.5431577\ttotal: 4.89s\tremaining: 15.1s\n",
      "244:\tlearn: 0.5430163\ttotal: 4.91s\tremaining: 15.1s\n",
      "245:\tlearn: 0.5427701\ttotal: 4.93s\tremaining: 15.1s\n",
      "246:\tlearn: 0.5426899\ttotal: 4.95s\tremaining: 15.1s\n",
      "247:\tlearn: 0.5425930\ttotal: 4.97s\tremaining: 15.1s\n",
      "248:\tlearn: 0.5425166\ttotal: 4.99s\tremaining: 15s\n",
      "249:\tlearn: 0.5424344\ttotal: 5s\tremaining: 15s\n",
      "250:\tlearn: 0.5423359\ttotal: 5.02s\tremaining: 15s\n",
      "251:\tlearn: 0.5422353\ttotal: 5.04s\tremaining: 15s\n",
      "252:\tlearn: 0.5421512\ttotal: 5.06s\tremaining: 14.9s\n",
      "253:\tlearn: 0.5420147\ttotal: 5.08s\tremaining: 14.9s\n",
      "254:\tlearn: 0.5419702\ttotal: 5.1s\tremaining: 14.9s\n",
      "255:\tlearn: 0.5418637\ttotal: 5.12s\tremaining: 14.9s\n",
      "256:\tlearn: 0.5417481\ttotal: 5.14s\tremaining: 14.9s\n",
      "257:\tlearn: 0.5416379\ttotal: 5.16s\tremaining: 14.8s\n",
      "258:\tlearn: 0.5415115\ttotal: 5.18s\tremaining: 14.8s\n",
      "259:\tlearn: 0.5414203\ttotal: 5.2s\tremaining: 14.8s\n",
      "260:\tlearn: 0.5413114\ttotal: 5.22s\tremaining: 14.8s\n",
      "261:\tlearn: 0.5412435\ttotal: 5.24s\tremaining: 14.8s\n",
      "262:\tlearn: 0.5411887\ttotal: 5.26s\tremaining: 14.7s\n",
      "263:\tlearn: 0.5410885\ttotal: 5.28s\tremaining: 14.7s\n",
      "264:\tlearn: 0.5409689\ttotal: 5.3s\tremaining: 14.7s\n",
      "265:\tlearn: 0.5408689\ttotal: 5.32s\tremaining: 14.7s\n",
      "266:\tlearn: 0.5407639\ttotal: 5.34s\tremaining: 14.7s\n",
      "267:\tlearn: 0.5406404\ttotal: 5.36s\tremaining: 14.6s\n",
      "268:\tlearn: 0.5406049\ttotal: 5.38s\tremaining: 14.6s\n",
      "269:\tlearn: 0.5405393\ttotal: 5.4s\tremaining: 14.6s\n",
      "270:\tlearn: 0.5403953\ttotal: 5.42s\tremaining: 14.6s\n",
      "271:\tlearn: 0.5401884\ttotal: 5.44s\tremaining: 14.6s\n",
      "272:\tlearn: 0.5400832\ttotal: 5.46s\tremaining: 14.5s\n",
      "273:\tlearn: 0.5399663\ttotal: 5.48s\tremaining: 14.5s\n",
      "274:\tlearn: 0.5398397\ttotal: 5.5s\tremaining: 14.5s\n",
      "275:\tlearn: 0.5396878\ttotal: 5.51s\tremaining: 14.5s\n",
      "276:\tlearn: 0.5395628\ttotal: 5.54s\tremaining: 14.4s\n",
      "277:\tlearn: 0.5395298\ttotal: 5.55s\tremaining: 14.4s\n",
      "278:\tlearn: 0.5394387\ttotal: 5.57s\tremaining: 14.4s\n",
      "279:\tlearn: 0.5393789\ttotal: 5.59s\tremaining: 14.4s\n",
      "280:\tlearn: 0.5392904\ttotal: 5.62s\tremaining: 14.4s\n",
      "281:\tlearn: 0.5391705\ttotal: 5.63s\tremaining: 14.3s\n",
      "282:\tlearn: 0.5391113\ttotal: 5.66s\tremaining: 14.3s\n",
      "283:\tlearn: 0.5390320\ttotal: 5.68s\tremaining: 14.3s\n",
      "284:\tlearn: 0.5389581\ttotal: 5.7s\tremaining: 14.3s\n",
      "285:\tlearn: 0.5387902\ttotal: 5.72s\tremaining: 14.3s\n",
      "286:\tlearn: 0.5386524\ttotal: 5.74s\tremaining: 14.3s\n",
      "287:\tlearn: 0.5384490\ttotal: 5.76s\tremaining: 14.2s\n",
      "288:\tlearn: 0.5382905\ttotal: 5.78s\tremaining: 14.2s\n",
      "289:\tlearn: 0.5382170\ttotal: 5.8s\tremaining: 14.2s\n",
      "290:\tlearn: 0.5380997\ttotal: 5.82s\tremaining: 14.2s\n",
      "291:\tlearn: 0.5379632\ttotal: 5.84s\tremaining: 14.2s\n",
      "292:\tlearn: 0.5378783\ttotal: 5.86s\tremaining: 14.1s\n",
      "293:\tlearn: 0.5377301\ttotal: 5.88s\tremaining: 14.1s\n",
      "294:\tlearn: 0.5376018\ttotal: 5.9s\tremaining: 14.1s\n",
      "295:\tlearn: 0.5374539\ttotal: 5.92s\tremaining: 14.1s\n",
      "296:\tlearn: 0.5373035\ttotal: 5.94s\tremaining: 14.1s\n",
      "297:\tlearn: 0.5371907\ttotal: 5.96s\tremaining: 14s\n",
      "298:\tlearn: 0.5371091\ttotal: 5.98s\tremaining: 14s\n",
      "299:\tlearn: 0.5370413\ttotal: 6s\tremaining: 14s\n",
      "300:\tlearn: 0.5369789\ttotal: 6.02s\tremaining: 14s\n",
      "301:\tlearn: 0.5368764\ttotal: 6.04s\tremaining: 14s\n",
      "302:\tlearn: 0.5367364\ttotal: 6.06s\tremaining: 13.9s\n",
      "303:\tlearn: 0.5366348\ttotal: 6.08s\tremaining: 13.9s\n",
      "304:\tlearn: 0.5365268\ttotal: 6.1s\tremaining: 13.9s\n",
      "305:\tlearn: 0.5364190\ttotal: 6.12s\tremaining: 13.9s\n",
      "306:\tlearn: 0.5363392\ttotal: 6.14s\tremaining: 13.9s\n",
      "307:\tlearn: 0.5361622\ttotal: 6.16s\tremaining: 13.8s\n",
      "308:\tlearn: 0.5359607\ttotal: 6.18s\tremaining: 13.8s\n",
      "309:\tlearn: 0.5358213\ttotal: 6.2s\tremaining: 13.8s\n",
      "310:\tlearn: 0.5356985\ttotal: 6.21s\tremaining: 13.8s\n",
      "311:\tlearn: 0.5356099\ttotal: 6.23s\tremaining: 13.7s\n",
      "312:\tlearn: 0.5354597\ttotal: 6.25s\tremaining: 13.7s\n",
      "313:\tlearn: 0.5353062\ttotal: 6.27s\tremaining: 13.7s\n",
      "314:\tlearn: 0.5351871\ttotal: 6.29s\tremaining: 13.7s\n",
      "315:\tlearn: 0.5350708\ttotal: 6.31s\tremaining: 13.7s\n",
      "316:\tlearn: 0.5349386\ttotal: 6.32s\tremaining: 13.6s\n",
      "317:\tlearn: 0.5348583\ttotal: 6.34s\tremaining: 13.6s\n",
      "318:\tlearn: 0.5346972\ttotal: 6.36s\tremaining: 13.6s\n",
      "319:\tlearn: 0.5345112\ttotal: 6.38s\tremaining: 13.6s\n",
      "320:\tlearn: 0.5344035\ttotal: 6.4s\tremaining: 13.5s\n",
      "321:\tlearn: 0.5342935\ttotal: 6.42s\tremaining: 13.5s\n",
      "322:\tlearn: 0.5341658\ttotal: 6.44s\tremaining: 13.5s\n",
      "323:\tlearn: 0.5340153\ttotal: 6.46s\tremaining: 13.5s\n",
      "324:\tlearn: 0.5338962\ttotal: 6.48s\tremaining: 13.5s\n",
      "325:\tlearn: 0.5337632\ttotal: 6.5s\tremaining: 13.4s\n",
      "326:\tlearn: 0.5336727\ttotal: 6.52s\tremaining: 13.4s\n",
      "327:\tlearn: 0.5335828\ttotal: 6.54s\tremaining: 13.4s\n",
      "328:\tlearn: 0.5334401\ttotal: 6.55s\tremaining: 13.4s\n"
     ]
    },
    {
     "name": "stdout",
     "output_type": "stream",
     "text": [
      "329:\tlearn: 0.5333672\ttotal: 6.57s\tremaining: 13.3s\n",
      "330:\tlearn: 0.5332648\ttotal: 6.59s\tremaining: 13.3s\n",
      "331:\tlearn: 0.5331530\ttotal: 6.61s\tremaining: 13.3s\n",
      "332:\tlearn: 0.5330557\ttotal: 6.63s\tremaining: 13.3s\n",
      "333:\tlearn: 0.5329739\ttotal: 6.65s\tremaining: 13.3s\n",
      "334:\tlearn: 0.5328846\ttotal: 6.67s\tremaining: 13.2s\n",
      "335:\tlearn: 0.5327283\ttotal: 6.69s\tremaining: 13.2s\n",
      "336:\tlearn: 0.5326643\ttotal: 6.71s\tremaining: 13.2s\n",
      "337:\tlearn: 0.5324773\ttotal: 6.73s\tremaining: 13.2s\n",
      "338:\tlearn: 0.5323794\ttotal: 6.75s\tremaining: 13.2s\n",
      "339:\tlearn: 0.5322837\ttotal: 6.77s\tremaining: 13.1s\n",
      "340:\tlearn: 0.5321723\ttotal: 6.79s\tremaining: 13.1s\n",
      "341:\tlearn: 0.5320288\ttotal: 6.81s\tremaining: 13.1s\n",
      "342:\tlearn: 0.5319158\ttotal: 6.83s\tremaining: 13.1s\n",
      "343:\tlearn: 0.5317379\ttotal: 6.84s\tremaining: 13.1s\n",
      "344:\tlearn: 0.5316387\ttotal: 6.86s\tremaining: 13s\n",
      "345:\tlearn: 0.5314877\ttotal: 6.88s\tremaining: 13s\n",
      "346:\tlearn: 0.5314295\ttotal: 6.9s\tremaining: 13s\n",
      "347:\tlearn: 0.5313792\ttotal: 6.92s\tremaining: 13s\n",
      "348:\tlearn: 0.5312861\ttotal: 6.93s\tremaining: 12.9s\n",
      "349:\tlearn: 0.5312010\ttotal: 6.95s\tremaining: 12.9s\n",
      "350:\tlearn: 0.5310585\ttotal: 6.97s\tremaining: 12.9s\n",
      "351:\tlearn: 0.5309350\ttotal: 6.99s\tremaining: 12.9s\n",
      "352:\tlearn: 0.5308112\ttotal: 7.01s\tremaining: 12.8s\n",
      "353:\tlearn: 0.5307135\ttotal: 7.03s\tremaining: 12.8s\n",
      "354:\tlearn: 0.5306154\ttotal: 7.05s\tremaining: 12.8s\n",
      "355:\tlearn: 0.5305368\ttotal: 7.07s\tremaining: 12.8s\n",
      "356:\tlearn: 0.5304078\ttotal: 7.09s\tremaining: 12.8s\n",
      "357:\tlearn: 0.5302866\ttotal: 7.11s\tremaining: 12.7s\n",
      "358:\tlearn: 0.5301659\ttotal: 7.12s\tremaining: 12.7s\n",
      "359:\tlearn: 0.5300781\ttotal: 7.14s\tremaining: 12.7s\n",
      "360:\tlearn: 0.5299374\ttotal: 7.16s\tremaining: 12.7s\n",
      "361:\tlearn: 0.5298325\ttotal: 7.18s\tremaining: 12.7s\n",
      "362:\tlearn: 0.5297180\ttotal: 7.2s\tremaining: 12.6s\n",
      "363:\tlearn: 0.5295242\ttotal: 7.22s\tremaining: 12.6s\n",
      "364:\tlearn: 0.5293918\ttotal: 7.24s\tremaining: 12.6s\n",
      "365:\tlearn: 0.5292686\ttotal: 7.26s\tremaining: 12.6s\n",
      "366:\tlearn: 0.5291469\ttotal: 7.28s\tremaining: 12.6s\n",
      "367:\tlearn: 0.5290583\ttotal: 7.3s\tremaining: 12.5s\n",
      "368:\tlearn: 0.5289311\ttotal: 7.32s\tremaining: 12.5s\n",
      "369:\tlearn: 0.5287867\ttotal: 7.34s\tremaining: 12.5s\n",
      "370:\tlearn: 0.5286691\ttotal: 7.36s\tremaining: 12.5s\n",
      "371:\tlearn: 0.5285592\ttotal: 7.38s\tremaining: 12.5s\n",
      "372:\tlearn: 0.5285164\ttotal: 7.4s\tremaining: 12.4s\n",
      "373:\tlearn: 0.5283913\ttotal: 7.42s\tremaining: 12.4s\n",
      "374:\tlearn: 0.5283229\ttotal: 7.43s\tremaining: 12.4s\n",
      "375:\tlearn: 0.5282382\ttotal: 7.45s\tremaining: 12.4s\n",
      "376:\tlearn: 0.5280881\ttotal: 7.47s\tremaining: 12.3s\n",
      "377:\tlearn: 0.5279945\ttotal: 7.49s\tremaining: 12.3s\n",
      "378:\tlearn: 0.5278795\ttotal: 7.51s\tremaining: 12.3s\n",
      "379:\tlearn: 0.5277860\ttotal: 7.53s\tremaining: 12.3s\n",
      "380:\tlearn: 0.5276974\ttotal: 7.55s\tremaining: 12.3s\n",
      "381:\tlearn: 0.5276047\ttotal: 7.57s\tremaining: 12.2s\n",
      "382:\tlearn: 0.5274603\ttotal: 7.59s\tremaining: 12.2s\n",
      "383:\tlearn: 0.5273413\ttotal: 7.61s\tremaining: 12.2s\n",
      "384:\tlearn: 0.5272437\ttotal: 7.63s\tremaining: 12.2s\n",
      "385:\tlearn: 0.5271659\ttotal: 7.65s\tremaining: 12.2s\n",
      "386:\tlearn: 0.5270917\ttotal: 7.67s\tremaining: 12.1s\n",
      "387:\tlearn: 0.5268623\ttotal: 7.69s\tremaining: 12.1s\n",
      "388:\tlearn: 0.5267520\ttotal: 7.71s\tremaining: 12.1s\n",
      "389:\tlearn: 0.5266760\ttotal: 7.72s\tremaining: 12.1s\n",
      "390:\tlearn: 0.5265320\ttotal: 7.74s\tremaining: 12.1s\n",
      "391:\tlearn: 0.5263489\ttotal: 7.76s\tremaining: 12s\n",
      "392:\tlearn: 0.5262492\ttotal: 7.78s\tremaining: 12s\n",
      "393:\tlearn: 0.5261333\ttotal: 7.8s\tremaining: 12s\n",
      "394:\tlearn: 0.5260423\ttotal: 7.82s\tremaining: 12s\n",
      "395:\tlearn: 0.5258398\ttotal: 7.84s\tremaining: 12s\n",
      "396:\tlearn: 0.5255916\ttotal: 7.86s\tremaining: 11.9s\n",
      "397:\tlearn: 0.5255023\ttotal: 7.88s\tremaining: 11.9s\n",
      "398:\tlearn: 0.5253216\ttotal: 7.9s\tremaining: 11.9s\n",
      "399:\tlearn: 0.5252166\ttotal: 7.92s\tremaining: 11.9s\n",
      "400:\tlearn: 0.5250698\ttotal: 7.95s\tremaining: 11.9s\n",
      "401:\tlearn: 0.5249427\ttotal: 7.97s\tremaining: 11.9s\n",
      "402:\tlearn: 0.5248406\ttotal: 7.99s\tremaining: 11.8s\n",
      "403:\tlearn: 0.5247146\ttotal: 8.01s\tremaining: 11.8s\n",
      "404:\tlearn: 0.5246455\ttotal: 8.03s\tremaining: 11.8s\n",
      "405:\tlearn: 0.5245398\ttotal: 8.05s\tremaining: 11.8s\n",
      "406:\tlearn: 0.5244673\ttotal: 8.07s\tremaining: 11.8s\n",
      "407:\tlearn: 0.5243187\ttotal: 8.09s\tremaining: 11.7s\n",
      "408:\tlearn: 0.5241468\ttotal: 8.11s\tremaining: 11.7s\n",
      "409:\tlearn: 0.5240005\ttotal: 8.13s\tremaining: 11.7s\n",
      "410:\tlearn: 0.5238930\ttotal: 8.14s\tremaining: 11.7s\n",
      "411:\tlearn: 0.5237222\ttotal: 8.16s\tremaining: 11.6s\n",
      "412:\tlearn: 0.5236513\ttotal: 8.18s\tremaining: 11.6s\n",
      "413:\tlearn: 0.5235861\ttotal: 8.2s\tremaining: 11.6s\n",
      "414:\tlearn: 0.5233982\ttotal: 8.21s\tremaining: 11.6s\n",
      "415:\tlearn: 0.5233012\ttotal: 8.23s\tremaining: 11.6s\n",
      "416:\tlearn: 0.5231853\ttotal: 8.25s\tremaining: 11.5s\n",
      "417:\tlearn: 0.5230707\ttotal: 8.27s\tremaining: 11.5s\n",
      "418:\tlearn: 0.5229518\ttotal: 8.29s\tremaining: 11.5s\n",
      "419:\tlearn: 0.5228036\ttotal: 8.31s\tremaining: 11.5s\n",
      "420:\tlearn: 0.5227270\ttotal: 8.33s\tremaining: 11.5s\n",
      "421:\tlearn: 0.5226147\ttotal: 8.35s\tremaining: 11.4s\n",
      "422:\tlearn: 0.5225010\ttotal: 8.37s\tremaining: 11.4s\n",
      "423:\tlearn: 0.5223760\ttotal: 8.39s\tremaining: 11.4s\n",
      "424:\tlearn: 0.5222983\ttotal: 8.41s\tremaining: 11.4s\n",
      "425:\tlearn: 0.5221818\ttotal: 8.43s\tremaining: 11.4s\n",
      "426:\tlearn: 0.5221125\ttotal: 8.45s\tremaining: 11.3s\n",
      "427:\tlearn: 0.5219975\ttotal: 8.47s\tremaining: 11.3s\n",
      "428:\tlearn: 0.5218879\ttotal: 8.49s\tremaining: 11.3s\n",
      "429:\tlearn: 0.5217925\ttotal: 8.51s\tremaining: 11.3s\n",
      "430:\tlearn: 0.5216792\ttotal: 8.53s\tremaining: 11.3s\n",
      "431:\tlearn: 0.5215697\ttotal: 8.55s\tremaining: 11.2s\n",
      "432:\tlearn: 0.5214404\ttotal: 8.57s\tremaining: 11.2s\n",
      "433:\tlearn: 0.5213521\ttotal: 8.59s\tremaining: 11.2s\n",
      "434:\tlearn: 0.5212499\ttotal: 8.61s\tremaining: 11.2s\n",
      "435:\tlearn: 0.5211589\ttotal: 8.63s\tremaining: 11.2s\n",
      "436:\tlearn: 0.5211023\ttotal: 8.65s\tremaining: 11.1s\n",
      "437:\tlearn: 0.5209822\ttotal: 8.67s\tremaining: 11.1s\n",
      "438:\tlearn: 0.5208916\ttotal: 8.69s\tremaining: 11.1s\n",
      "439:\tlearn: 0.5208276\ttotal: 8.71s\tremaining: 11.1s\n",
      "440:\tlearn: 0.5207337\ttotal: 8.73s\tremaining: 11.1s\n",
      "441:\tlearn: 0.5206791\ttotal: 8.75s\tremaining: 11s\n",
      "442:\tlearn: 0.5205814\ttotal: 8.77s\tremaining: 11s\n",
      "443:\tlearn: 0.5204477\ttotal: 8.78s\tremaining: 11s\n",
      "444:\tlearn: 0.5203659\ttotal: 8.8s\tremaining: 11s\n",
      "445:\tlearn: 0.5202238\ttotal: 8.82s\tremaining: 11s\n",
      "446:\tlearn: 0.5201146\ttotal: 8.84s\tremaining: 10.9s\n",
      "447:\tlearn: 0.5200176\ttotal: 8.86s\tremaining: 10.9s\n",
      "448:\tlearn: 0.5199643\ttotal: 8.88s\tremaining: 10.9s\n",
      "449:\tlearn: 0.5198812\ttotal: 8.89s\tremaining: 10.9s\n",
      "450:\tlearn: 0.5197553\ttotal: 8.91s\tremaining: 10.8s\n",
      "451:\tlearn: 0.5196842\ttotal: 8.93s\tremaining: 10.8s\n",
      "452:\tlearn: 0.5195912\ttotal: 8.95s\tremaining: 10.8s\n",
      "453:\tlearn: 0.5194841\ttotal: 8.97s\tremaining: 10.8s\n",
      "454:\tlearn: 0.5193793\ttotal: 8.99s\tremaining: 10.8s\n",
      "455:\tlearn: 0.5192985\ttotal: 9.01s\tremaining: 10.8s\n",
      "456:\tlearn: 0.5192173\ttotal: 9.03s\tremaining: 10.7s\n",
      "457:\tlearn: 0.5191067\ttotal: 9.05s\tremaining: 10.7s\n",
      "458:\tlearn: 0.5190006\ttotal: 9.08s\tremaining: 10.7s\n",
      "459:\tlearn: 0.5188733\ttotal: 9.1s\tremaining: 10.7s\n",
      "460:\tlearn: 0.5187324\ttotal: 9.12s\tremaining: 10.7s\n",
      "461:\tlearn: 0.5186274\ttotal: 9.13s\tremaining: 10.6s\n",
      "462:\tlearn: 0.5185024\ttotal: 9.15s\tremaining: 10.6s\n",
      "463:\tlearn: 0.5183659\ttotal: 9.18s\tremaining: 10.6s\n",
      "464:\tlearn: 0.5182813\ttotal: 9.19s\tremaining: 10.6s\n",
      "465:\tlearn: 0.5181742\ttotal: 9.21s\tremaining: 10.6s\n",
      "466:\tlearn: 0.5181197\ttotal: 9.23s\tremaining: 10.5s\n",
      "467:\tlearn: 0.5180366\ttotal: 9.25s\tremaining: 10.5s\n",
      "468:\tlearn: 0.5179093\ttotal: 9.27s\tremaining: 10.5s\n",
      "469:\tlearn: 0.5177982\ttotal: 9.29s\tremaining: 10.5s\n",
      "470:\tlearn: 0.5177310\ttotal: 9.31s\tremaining: 10.5s\n",
      "471:\tlearn: 0.5176211\ttotal: 9.32s\tremaining: 10.4s\n",
      "472:\tlearn: 0.5175360\ttotal: 9.34s\tremaining: 10.4s\n",
      "473:\tlearn: 0.5174472\ttotal: 9.36s\tremaining: 10.4s\n",
      "474:\tlearn: 0.5173517\ttotal: 9.38s\tremaining: 10.4s\n",
      "475:\tlearn: 0.5172768\ttotal: 9.4s\tremaining: 10.3s\n",
      "476:\tlearn: 0.5172245\ttotal: 9.42s\tremaining: 10.3s\n",
      "477:\tlearn: 0.5171653\ttotal: 9.44s\tremaining: 10.3s\n",
      "478:\tlearn: 0.5170760\ttotal: 9.45s\tremaining: 10.3s\n",
      "479:\tlearn: 0.5169987\ttotal: 9.47s\tremaining: 10.3s\n",
      "480:\tlearn: 0.5168921\ttotal: 9.49s\tremaining: 10.2s\n",
      "481:\tlearn: 0.5167880\ttotal: 9.51s\tremaining: 10.2s\n",
      "482:\tlearn: 0.5166630\ttotal: 9.53s\tremaining: 10.2s\n",
      "483:\tlearn: 0.5165969\ttotal: 9.55s\tremaining: 10.2s\n",
      "484:\tlearn: 0.5164943\ttotal: 9.57s\tremaining: 10.2s\n",
      "485:\tlearn: 0.5163910\ttotal: 9.59s\tremaining: 10.1s\n",
      "486:\tlearn: 0.5163329\ttotal: 9.6s\tremaining: 10.1s\n",
      "487:\tlearn: 0.5161816\ttotal: 9.62s\tremaining: 10.1s\n",
      "488:\tlearn: 0.5160668\ttotal: 9.64s\tremaining: 10.1s\n",
      "489:\tlearn: 0.5159776\ttotal: 9.66s\tremaining: 10.1s\n",
      "490:\tlearn: 0.5158865\ttotal: 9.68s\tremaining: 10s\n",
      "491:\tlearn: 0.5158289\ttotal: 9.7s\tremaining: 10s\n",
      "492:\tlearn: 0.5157864\ttotal: 9.72s\tremaining: 9.99s\n",
      "493:\tlearn: 0.5156708\ttotal: 9.74s\tremaining: 9.97s\n",
      "494:\tlearn: 0.5155636\ttotal: 9.76s\tremaining: 9.95s\n",
      "495:\tlearn: 0.5154702\ttotal: 9.78s\tremaining: 9.93s\n"
     ]
    },
    {
     "name": "stdout",
     "output_type": "stream",
     "text": [
      "496:\tlearn: 0.5153749\ttotal: 9.79s\tremaining: 9.91s\n",
      "497:\tlearn: 0.5152855\ttotal: 9.81s\tremaining: 9.89s\n",
      "498:\tlearn: 0.5151765\ttotal: 9.83s\tremaining: 9.87s\n",
      "499:\tlearn: 0.5150871\ttotal: 9.86s\tremaining: 9.86s\n",
      "500:\tlearn: 0.5149692\ttotal: 9.88s\tremaining: 9.84s\n",
      "501:\tlearn: 0.5148441\ttotal: 9.9s\tremaining: 9.82s\n",
      "502:\tlearn: 0.5147407\ttotal: 9.92s\tremaining: 9.8s\n",
      "503:\tlearn: 0.5146611\ttotal: 9.94s\tremaining: 9.79s\n",
      "504:\tlearn: 0.5145797\ttotal: 9.96s\tremaining: 9.77s\n",
      "505:\tlearn: 0.5144628\ttotal: 9.99s\tremaining: 9.75s\n",
      "506:\tlearn: 0.5144019\ttotal: 10s\tremaining: 9.73s\n",
      "507:\tlearn: 0.5143254\ttotal: 10s\tremaining: 9.71s\n",
      "508:\tlearn: 0.5142227\ttotal: 10s\tremaining: 9.69s\n",
      "509:\tlearn: 0.5141486\ttotal: 10.1s\tremaining: 9.67s\n",
      "510:\tlearn: 0.5141024\ttotal: 10.1s\tremaining: 9.64s\n",
      "511:\tlearn: 0.5140008\ttotal: 10.1s\tremaining: 9.63s\n",
      "512:\tlearn: 0.5139286\ttotal: 10.1s\tremaining: 9.61s\n",
      "513:\tlearn: 0.5138419\ttotal: 10.1s\tremaining: 9.58s\n",
      "514:\tlearn: 0.5137699\ttotal: 10.2s\tremaining: 9.56s\n",
      "515:\tlearn: 0.5136837\ttotal: 10.2s\tremaining: 9.54s\n",
      "516:\tlearn: 0.5136012\ttotal: 10.2s\tremaining: 9.52s\n",
      "517:\tlearn: 0.5134919\ttotal: 10.2s\tremaining: 9.5s\n",
      "518:\tlearn: 0.5134024\ttotal: 10.2s\tremaining: 9.48s\n",
      "519:\tlearn: 0.5132967\ttotal: 10.2s\tremaining: 9.46s\n",
      "520:\tlearn: 0.5131929\ttotal: 10.3s\tremaining: 9.44s\n",
      "521:\tlearn: 0.5130451\ttotal: 10.3s\tremaining: 9.42s\n",
      "522:\tlearn: 0.5129783\ttotal: 10.3s\tremaining: 9.4s\n",
      "523:\tlearn: 0.5129381\ttotal: 10.3s\tremaining: 9.38s\n",
      "524:\tlearn: 0.5128321\ttotal: 10.3s\tremaining: 9.36s\n",
      "525:\tlearn: 0.5127570\ttotal: 10.4s\tremaining: 9.34s\n",
      "526:\tlearn: 0.5126483\ttotal: 10.4s\tremaining: 9.32s\n",
      "527:\tlearn: 0.5125327\ttotal: 10.4s\tremaining: 9.3s\n",
      "528:\tlearn: 0.5124434\ttotal: 10.4s\tremaining: 9.29s\n",
      "529:\tlearn: 0.5123752\ttotal: 10.4s\tremaining: 9.27s\n",
      "530:\tlearn: 0.5122503\ttotal: 10.5s\tremaining: 9.25s\n",
      "531:\tlearn: 0.5121837\ttotal: 10.5s\tremaining: 9.23s\n",
      "532:\tlearn: 0.5120951\ttotal: 10.5s\tremaining: 9.21s\n",
      "533:\tlearn: 0.5120246\ttotal: 10.5s\tremaining: 9.19s\n",
      "534:\tlearn: 0.5119059\ttotal: 10.5s\tremaining: 9.16s\n",
      "535:\tlearn: 0.5118358\ttotal: 10.6s\tremaining: 9.14s\n",
      "536:\tlearn: 0.5117735\ttotal: 10.6s\tremaining: 9.12s\n",
      "537:\tlearn: 0.5116791\ttotal: 10.6s\tremaining: 9.11s\n",
      "538:\tlearn: 0.5115752\ttotal: 10.6s\tremaining: 9.09s\n",
      "539:\tlearn: 0.5114798\ttotal: 10.6s\tremaining: 9.07s\n",
      "540:\tlearn: 0.5113560\ttotal: 10.7s\tremaining: 9.05s\n",
      "541:\tlearn: 0.5112821\ttotal: 10.7s\tremaining: 9.03s\n",
      "542:\tlearn: 0.5112010\ttotal: 10.7s\tremaining: 9.01s\n",
      "543:\tlearn: 0.5111158\ttotal: 10.7s\tremaining: 8.99s\n",
      "544:\tlearn: 0.5109814\ttotal: 10.7s\tremaining: 8.97s\n",
      "545:\tlearn: 0.5109273\ttotal: 10.8s\tremaining: 8.95s\n",
      "546:\tlearn: 0.5108518\ttotal: 10.8s\tremaining: 8.93s\n",
      "547:\tlearn: 0.5107331\ttotal: 10.8s\tremaining: 8.9s\n",
      "548:\tlearn: 0.5106255\ttotal: 10.8s\tremaining: 8.88s\n",
      "549:\tlearn: 0.5105322\ttotal: 10.8s\tremaining: 8.86s\n",
      "550:\tlearn: 0.5104886\ttotal: 10.9s\tremaining: 8.84s\n",
      "551:\tlearn: 0.5103998\ttotal: 10.9s\tremaining: 8.82s\n",
      "552:\tlearn: 0.5103148\ttotal: 10.9s\tremaining: 8.8s\n",
      "553:\tlearn: 0.5102497\ttotal: 10.9s\tremaining: 8.79s\n",
      "554:\tlearn: 0.5101669\ttotal: 10.9s\tremaining: 8.77s\n",
      "555:\tlearn: 0.5100879\ttotal: 11s\tremaining: 8.75s\n",
      "556:\tlearn: 0.5099822\ttotal: 11s\tremaining: 8.73s\n",
      "557:\tlearn: 0.5099196\ttotal: 11s\tremaining: 8.71s\n",
      "558:\tlearn: 0.5098308\ttotal: 11s\tremaining: 8.69s\n",
      "559:\tlearn: 0.5097537\ttotal: 11s\tremaining: 8.67s\n",
      "560:\tlearn: 0.5096136\ttotal: 11s\tremaining: 8.65s\n",
      "561:\tlearn: 0.5094981\ttotal: 11.1s\tremaining: 8.63s\n",
      "562:\tlearn: 0.5093819\ttotal: 11.1s\tremaining: 8.61s\n",
      "563:\tlearn: 0.5093143\ttotal: 11.1s\tremaining: 8.59s\n",
      "564:\tlearn: 0.5092138\ttotal: 11.1s\tremaining: 8.56s\n",
      "565:\tlearn: 0.5091155\ttotal: 11.1s\tremaining: 8.54s\n",
      "566:\tlearn: 0.5090394\ttotal: 11.2s\tremaining: 8.52s\n",
      "567:\tlearn: 0.5089550\ttotal: 11.2s\tremaining: 8.5s\n",
      "568:\tlearn: 0.5087859\ttotal: 11.2s\tremaining: 8.48s\n",
      "569:\tlearn: 0.5087045\ttotal: 11.2s\tremaining: 8.46s\n",
      "570:\tlearn: 0.5086329\ttotal: 11.2s\tremaining: 8.44s\n",
      "571:\tlearn: 0.5085364\ttotal: 11.3s\tremaining: 8.42s\n",
      "572:\tlearn: 0.5084540\ttotal: 11.3s\tremaining: 8.4s\n",
      "573:\tlearn: 0.5083840\ttotal: 11.3s\tremaining: 8.38s\n",
      "574:\tlearn: 0.5083511\ttotal: 11.3s\tremaining: 8.36s\n",
      "575:\tlearn: 0.5082700\ttotal: 11.3s\tremaining: 8.34s\n",
      "576:\tlearn: 0.5081606\ttotal: 11.3s\tremaining: 8.32s\n",
      "577:\tlearn: 0.5080547\ttotal: 11.4s\tremaining: 8.3s\n",
      "578:\tlearn: 0.5079360\ttotal: 11.4s\tremaining: 8.28s\n",
      "579:\tlearn: 0.5078838\ttotal: 11.4s\tremaining: 8.26s\n",
      "580:\tlearn: 0.5077828\ttotal: 11.4s\tremaining: 8.24s\n",
      "581:\tlearn: 0.5076329\ttotal: 11.4s\tremaining: 8.22s\n",
      "582:\tlearn: 0.5075327\ttotal: 11.5s\tremaining: 8.2s\n",
      "583:\tlearn: 0.5074814\ttotal: 11.5s\tremaining: 8.18s\n",
      "584:\tlearn: 0.5074266\ttotal: 11.5s\tremaining: 8.16s\n",
      "585:\tlearn: 0.5073630\ttotal: 11.5s\tremaining: 8.14s\n",
      "586:\tlearn: 0.5073208\ttotal: 11.5s\tremaining: 8.12s\n",
      "587:\tlearn: 0.5072751\ttotal: 11.6s\tremaining: 8.1s\n",
      "588:\tlearn: 0.5072167\ttotal: 11.6s\tremaining: 8.08s\n",
      "589:\tlearn: 0.5071474\ttotal: 11.6s\tremaining: 8.06s\n",
      "590:\tlearn: 0.5070550\ttotal: 11.6s\tremaining: 8.04s\n",
      "591:\tlearn: 0.5069993\ttotal: 11.6s\tremaining: 8.02s\n",
      "592:\tlearn: 0.5069132\ttotal: 11.7s\tremaining: 8s\n",
      "593:\tlearn: 0.5068479\ttotal: 11.7s\tremaining: 7.98s\n",
      "594:\tlearn: 0.5067612\ttotal: 11.7s\tremaining: 7.96s\n",
      "595:\tlearn: 0.5067122\ttotal: 11.7s\tremaining: 7.94s\n",
      "596:\tlearn: 0.5066423\ttotal: 11.7s\tremaining: 7.92s\n",
      "597:\tlearn: 0.5065763\ttotal: 11.8s\tremaining: 7.9s\n",
      "598:\tlearn: 0.5065209\ttotal: 11.8s\tremaining: 7.88s\n",
      "599:\tlearn: 0.5064388\ttotal: 11.8s\tremaining: 7.86s\n",
      "600:\tlearn: 0.5063252\ttotal: 11.8s\tremaining: 7.84s\n",
      "601:\tlearn: 0.5062174\ttotal: 11.8s\tremaining: 7.82s\n",
      "602:\tlearn: 0.5061098\ttotal: 11.9s\tremaining: 7.8s\n",
      "603:\tlearn: 0.5060554\ttotal: 11.9s\tremaining: 7.79s\n",
      "604:\tlearn: 0.5059951\ttotal: 11.9s\tremaining: 7.76s\n",
      "605:\tlearn: 0.5059233\ttotal: 11.9s\tremaining: 7.74s\n",
      "606:\tlearn: 0.5058003\ttotal: 11.9s\tremaining: 7.72s\n",
      "607:\tlearn: 0.5057117\ttotal: 11.9s\tremaining: 7.7s\n",
      "608:\tlearn: 0.5056419\ttotal: 12s\tremaining: 7.68s\n",
      "609:\tlearn: 0.5055955\ttotal: 12s\tremaining: 7.66s\n",
      "610:\tlearn: 0.5055003\ttotal: 12s\tremaining: 7.64s\n",
      "611:\tlearn: 0.5054284\ttotal: 12s\tremaining: 7.62s\n",
      "612:\tlearn: 0.5053595\ttotal: 12s\tremaining: 7.6s\n",
      "613:\tlearn: 0.5052678\ttotal: 12.1s\tremaining: 7.58s\n",
      "614:\tlearn: 0.5052202\ttotal: 12.1s\tremaining: 7.56s\n",
      "615:\tlearn: 0.5051526\ttotal: 12.1s\tremaining: 7.54s\n",
      "616:\tlearn: 0.5051023\ttotal: 12.1s\tremaining: 7.52s\n",
      "617:\tlearn: 0.5050316\ttotal: 12.1s\tremaining: 7.5s\n",
      "618:\tlearn: 0.5049417\ttotal: 12.2s\tremaining: 7.48s\n",
      "619:\tlearn: 0.5048586\ttotal: 12.2s\tremaining: 7.46s\n",
      "620:\tlearn: 0.5047931\ttotal: 12.2s\tremaining: 7.44s\n",
      "621:\tlearn: 0.5047245\ttotal: 12.2s\tremaining: 7.42s\n",
      "622:\tlearn: 0.5046664\ttotal: 12.2s\tremaining: 7.4s\n",
      "623:\tlearn: 0.5045716\ttotal: 12.2s\tremaining: 7.38s\n",
      "624:\tlearn: 0.5044577\ttotal: 12.3s\tremaining: 7.36s\n",
      "625:\tlearn: 0.5043812\ttotal: 12.3s\tremaining: 7.34s\n",
      "626:\tlearn: 0.5043148\ttotal: 12.3s\tremaining: 7.32s\n",
      "627:\tlearn: 0.5042490\ttotal: 12.3s\tremaining: 7.3s\n",
      "628:\tlearn: 0.5041649\ttotal: 12.3s\tremaining: 7.28s\n",
      "629:\tlearn: 0.5041006\ttotal: 12.4s\tremaining: 7.26s\n",
      "630:\tlearn: 0.5040315\ttotal: 12.4s\tremaining: 7.24s\n",
      "631:\tlearn: 0.5039499\ttotal: 12.4s\tremaining: 7.22s\n",
      "632:\tlearn: 0.5038441\ttotal: 12.4s\tremaining: 7.2s\n",
      "633:\tlearn: 0.5037455\ttotal: 12.4s\tremaining: 7.18s\n",
      "634:\tlearn: 0.5036459\ttotal: 12.5s\tremaining: 7.16s\n",
      "635:\tlearn: 0.5036013\ttotal: 12.5s\tremaining: 7.14s\n",
      "636:\tlearn: 0.5034924\ttotal: 12.5s\tremaining: 7.12s\n",
      "637:\tlearn: 0.5034308\ttotal: 12.5s\tremaining: 7.1s\n",
      "638:\tlearn: 0.5033372\ttotal: 12.5s\tremaining: 7.08s\n",
      "639:\tlearn: 0.5032831\ttotal: 12.6s\tremaining: 7.06s\n",
      "640:\tlearn: 0.5032404\ttotal: 12.6s\tremaining: 7.04s\n",
      "641:\tlearn: 0.5031039\ttotal: 12.6s\tremaining: 7.02s\n",
      "642:\tlearn: 0.5030390\ttotal: 12.6s\tremaining: 7s\n",
      "643:\tlearn: 0.5029141\ttotal: 12.6s\tremaining: 6.98s\n",
      "644:\tlearn: 0.5028308\ttotal: 12.6s\tremaining: 6.96s\n",
      "645:\tlearn: 0.5027344\ttotal: 12.7s\tremaining: 6.94s\n",
      "646:\tlearn: 0.5026291\ttotal: 12.7s\tremaining: 6.92s\n",
      "647:\tlearn: 0.5025575\ttotal: 12.7s\tremaining: 6.9s\n",
      "648:\tlearn: 0.5024661\ttotal: 12.7s\tremaining: 6.88s\n",
      "649:\tlearn: 0.5024242\ttotal: 12.7s\tremaining: 6.86s\n",
      "650:\tlearn: 0.5023370\ttotal: 12.8s\tremaining: 6.84s\n",
      "651:\tlearn: 0.5022398\ttotal: 12.8s\tremaining: 6.82s\n",
      "652:\tlearn: 0.5021292\ttotal: 12.8s\tremaining: 6.8s\n",
      "653:\tlearn: 0.5020524\ttotal: 12.8s\tremaining: 6.78s\n",
      "654:\tlearn: 0.5019670\ttotal: 12.8s\tremaining: 6.76s\n",
      "655:\tlearn: 0.5019005\ttotal: 12.9s\tremaining: 6.74s\n",
      "656:\tlearn: 0.5017995\ttotal: 12.9s\tremaining: 6.72s\n",
      "657:\tlearn: 0.5017376\ttotal: 12.9s\tremaining: 6.7s\n",
      "658:\tlearn: 0.5016132\ttotal: 12.9s\tremaining: 6.68s\n",
      "659:\tlearn: 0.5015250\ttotal: 12.9s\tremaining: 6.66s\n",
      "660:\tlearn: 0.5014366\ttotal: 13s\tremaining: 6.64s\n"
     ]
    },
    {
     "name": "stdout",
     "output_type": "stream",
     "text": [
      "661:\tlearn: 0.5013513\ttotal: 13s\tremaining: 6.62s\n",
      "662:\tlearn: 0.5012710\ttotal: 13s\tremaining: 6.6s\n",
      "663:\tlearn: 0.5011827\ttotal: 13s\tremaining: 6.58s\n",
      "664:\tlearn: 0.5011661\ttotal: 13s\tremaining: 6.56s\n",
      "665:\tlearn: 0.5010703\ttotal: 13s\tremaining: 6.54s\n",
      "666:\tlearn: 0.5009807\ttotal: 13.1s\tremaining: 6.52s\n",
      "667:\tlearn: 0.5009083\ttotal: 13.1s\tremaining: 6.5s\n",
      "668:\tlearn: 0.5008176\ttotal: 13.1s\tremaining: 6.48s\n",
      "669:\tlearn: 0.5007506\ttotal: 13.1s\tremaining: 6.46s\n",
      "670:\tlearn: 0.5007065\ttotal: 13.1s\tremaining: 6.44s\n",
      "671:\tlearn: 0.5006498\ttotal: 13.2s\tremaining: 6.42s\n",
      "672:\tlearn: 0.5005612\ttotal: 13.2s\tremaining: 6.4s\n",
      "673:\tlearn: 0.5004503\ttotal: 13.2s\tremaining: 6.38s\n",
      "674:\tlearn: 0.5004066\ttotal: 13.2s\tremaining: 6.36s\n",
      "675:\tlearn: 0.5003201\ttotal: 13.2s\tremaining: 6.34s\n",
      "676:\tlearn: 0.5002371\ttotal: 13.3s\tremaining: 6.32s\n",
      "677:\tlearn: 0.5001736\ttotal: 13.3s\tremaining: 6.3s\n",
      "678:\tlearn: 0.5000850\ttotal: 13.3s\tremaining: 6.29s\n",
      "679:\tlearn: 0.4999560\ttotal: 13.3s\tremaining: 6.26s\n",
      "680:\tlearn: 0.4998968\ttotal: 13.3s\tremaining: 6.25s\n",
      "681:\tlearn: 0.4998347\ttotal: 13.4s\tremaining: 6.23s\n",
      "682:\tlearn: 0.4997676\ttotal: 13.4s\tremaining: 6.21s\n",
      "683:\tlearn: 0.4996451\ttotal: 13.4s\tremaining: 6.19s\n",
      "684:\tlearn: 0.4995857\ttotal: 13.4s\tremaining: 6.17s\n",
      "685:\tlearn: 0.4995333\ttotal: 13.4s\tremaining: 6.15s\n",
      "686:\tlearn: 0.4994456\ttotal: 13.5s\tremaining: 6.13s\n",
      "687:\tlearn: 0.4993620\ttotal: 13.5s\tremaining: 6.11s\n",
      "688:\tlearn: 0.4992835\ttotal: 13.5s\tremaining: 6.09s\n",
      "689:\tlearn: 0.4991930\ttotal: 13.5s\tremaining: 6.07s\n",
      "690:\tlearn: 0.4991001\ttotal: 13.5s\tremaining: 6.05s\n",
      "691:\tlearn: 0.4990139\ttotal: 13.6s\tremaining: 6.03s\n",
      "692:\tlearn: 0.4989505\ttotal: 13.6s\tremaining: 6.01s\n",
      "693:\tlearn: 0.4988720\ttotal: 13.6s\tremaining: 6s\n",
      "694:\tlearn: 0.4987505\ttotal: 13.6s\tremaining: 5.98s\n",
      "695:\tlearn: 0.4987074\ttotal: 13.6s\tremaining: 5.96s\n",
      "696:\tlearn: 0.4986427\ttotal: 13.7s\tremaining: 5.94s\n",
      "697:\tlearn: 0.4986055\ttotal: 13.7s\tremaining: 5.92s\n",
      "698:\tlearn: 0.4985336\ttotal: 13.7s\tremaining: 5.9s\n",
      "699:\tlearn: 0.4983961\ttotal: 13.7s\tremaining: 5.88s\n",
      "700:\tlearn: 0.4983506\ttotal: 13.7s\tremaining: 5.86s\n",
      "701:\tlearn: 0.4982772\ttotal: 13.8s\tremaining: 5.84s\n",
      "702:\tlearn: 0.4982000\ttotal: 13.8s\tremaining: 5.82s\n",
      "703:\tlearn: 0.4981470\ttotal: 13.8s\tremaining: 5.8s\n",
      "704:\tlearn: 0.4980637\ttotal: 13.8s\tremaining: 5.78s\n",
      "705:\tlearn: 0.4979665\ttotal: 13.8s\tremaining: 5.76s\n",
      "706:\tlearn: 0.4978953\ttotal: 13.9s\tremaining: 5.74s\n",
      "707:\tlearn: 0.4978274\ttotal: 13.9s\tremaining: 5.72s\n",
      "708:\tlearn: 0.4977567\ttotal: 13.9s\tremaining: 5.71s\n",
      "709:\tlearn: 0.4976766\ttotal: 13.9s\tremaining: 5.68s\n",
      "710:\tlearn: 0.4976054\ttotal: 13.9s\tremaining: 5.67s\n",
      "711:\tlearn: 0.4975316\ttotal: 14s\tremaining: 5.65s\n",
      "712:\tlearn: 0.4974949\ttotal: 14s\tremaining: 5.63s\n",
      "713:\tlearn: 0.4974343\ttotal: 14s\tremaining: 5.61s\n",
      "714:\tlearn: 0.4973577\ttotal: 14s\tremaining: 5.59s\n",
      "715:\tlearn: 0.4972506\ttotal: 14s\tremaining: 5.57s\n",
      "716:\tlearn: 0.4971596\ttotal: 14.1s\tremaining: 5.55s\n",
      "717:\tlearn: 0.4971280\ttotal: 14.1s\tremaining: 5.53s\n",
      "718:\tlearn: 0.4970263\ttotal: 14.1s\tremaining: 5.51s\n",
      "719:\tlearn: 0.4969457\ttotal: 14.1s\tremaining: 5.49s\n",
      "720:\tlearn: 0.4968540\ttotal: 14.1s\tremaining: 5.47s\n",
      "721:\tlearn: 0.4967888\ttotal: 14.2s\tremaining: 5.45s\n",
      "722:\tlearn: 0.4967093\ttotal: 14.2s\tremaining: 5.43s\n",
      "723:\tlearn: 0.4966743\ttotal: 14.2s\tremaining: 5.41s\n",
      "724:\tlearn: 0.4966014\ttotal: 14.2s\tremaining: 5.39s\n",
      "725:\tlearn: 0.4965519\ttotal: 14.2s\tremaining: 5.37s\n",
      "726:\tlearn: 0.4964791\ttotal: 14.3s\tremaining: 5.35s\n",
      "727:\tlearn: 0.4964324\ttotal: 14.3s\tremaining: 5.33s\n",
      "728:\tlearn: 0.4963459\ttotal: 14.3s\tremaining: 5.31s\n",
      "729:\tlearn: 0.4962879\ttotal: 14.3s\tremaining: 5.29s\n",
      "730:\tlearn: 0.4961612\ttotal: 14.3s\tremaining: 5.27s\n",
      "731:\tlearn: 0.4960521\ttotal: 14.4s\tremaining: 5.25s\n",
      "732:\tlearn: 0.4959916\ttotal: 14.4s\tremaining: 5.23s\n",
      "733:\tlearn: 0.4959260\ttotal: 14.4s\tremaining: 5.21s\n",
      "734:\tlearn: 0.4958726\ttotal: 14.4s\tremaining: 5.2s\n",
      "735:\tlearn: 0.4957743\ttotal: 14.4s\tremaining: 5.17s\n",
      "736:\tlearn: 0.4957263\ttotal: 14.4s\tremaining: 5.16s\n",
      "737:\tlearn: 0.4956249\ttotal: 14.5s\tremaining: 5.13s\n",
      "738:\tlearn: 0.4955101\ttotal: 14.5s\tremaining: 5.12s\n",
      "739:\tlearn: 0.4954237\ttotal: 14.5s\tremaining: 5.1s\n",
      "740:\tlearn: 0.4953347\ttotal: 14.5s\tremaining: 5.08s\n",
      "741:\tlearn: 0.4952297\ttotal: 14.5s\tremaining: 5.06s\n",
      "742:\tlearn: 0.4951557\ttotal: 14.6s\tremaining: 5.04s\n",
      "743:\tlearn: 0.4950940\ttotal: 14.6s\tremaining: 5.02s\n",
      "744:\tlearn: 0.4950186\ttotal: 14.6s\tremaining: 5s\n",
      "745:\tlearn: 0.4949494\ttotal: 14.6s\tremaining: 4.98s\n",
      "746:\tlearn: 0.4948777\ttotal: 14.6s\tremaining: 4.96s\n",
      "747:\tlearn: 0.4948054\ttotal: 14.7s\tremaining: 4.94s\n",
      "748:\tlearn: 0.4947431\ttotal: 14.7s\tremaining: 4.92s\n",
      "749:\tlearn: 0.4946478\ttotal: 14.7s\tremaining: 4.9s\n",
      "750:\tlearn: 0.4945486\ttotal: 14.7s\tremaining: 4.88s\n",
      "751:\tlearn: 0.4944405\ttotal: 14.7s\tremaining: 4.86s\n",
      "752:\tlearn: 0.4944116\ttotal: 14.8s\tremaining: 4.84s\n",
      "753:\tlearn: 0.4943759\ttotal: 14.8s\tremaining: 4.82s\n",
      "754:\tlearn: 0.4942948\ttotal: 14.8s\tremaining: 4.8s\n",
      "755:\tlearn: 0.4942134\ttotal: 14.8s\tremaining: 4.78s\n",
      "756:\tlearn: 0.4941650\ttotal: 14.8s\tremaining: 4.76s\n",
      "757:\tlearn: 0.4941242\ttotal: 14.9s\tremaining: 4.74s\n",
      "758:\tlearn: 0.4940679\ttotal: 14.9s\tremaining: 4.72s\n",
      "759:\tlearn: 0.4940049\ttotal: 14.9s\tremaining: 4.7s\n",
      "760:\tlearn: 0.4939552\ttotal: 14.9s\tremaining: 4.68s\n",
      "761:\tlearn: 0.4938937\ttotal: 14.9s\tremaining: 4.66s\n",
      "762:\tlearn: 0.4938335\ttotal: 14.9s\tremaining: 4.64s\n",
      "763:\tlearn: 0.4937534\ttotal: 15s\tremaining: 4.62s\n",
      "764:\tlearn: 0.4936919\ttotal: 15s\tremaining: 4.6s\n",
      "765:\tlearn: 0.4936376\ttotal: 15s\tremaining: 4.58s\n",
      "766:\tlearn: 0.4935368\ttotal: 15s\tremaining: 4.57s\n",
      "767:\tlearn: 0.4934444\ttotal: 15s\tremaining: 4.55s\n",
      "768:\tlearn: 0.4933761\ttotal: 15.1s\tremaining: 4.53s\n",
      "769:\tlearn: 0.4932865\ttotal: 15.1s\tremaining: 4.51s\n",
      "770:\tlearn: 0.4932153\ttotal: 15.1s\tremaining: 4.49s\n",
      "771:\tlearn: 0.4931571\ttotal: 15.1s\tremaining: 4.47s\n",
      "772:\tlearn: 0.4930777\ttotal: 15.1s\tremaining: 4.45s\n",
      "773:\tlearn: 0.4929992\ttotal: 15.2s\tremaining: 4.43s\n",
      "774:\tlearn: 0.4929439\ttotal: 15.2s\tremaining: 4.41s\n",
      "775:\tlearn: 0.4928812\ttotal: 15.2s\tremaining: 4.39s\n",
      "776:\tlearn: 0.4928379\ttotal: 15.2s\tremaining: 4.37s\n",
      "777:\tlearn: 0.4927622\ttotal: 15.2s\tremaining: 4.35s\n",
      "778:\tlearn: 0.4926966\ttotal: 15.3s\tremaining: 4.33s\n",
      "779:\tlearn: 0.4926672\ttotal: 15.3s\tremaining: 4.31s\n",
      "780:\tlearn: 0.4926160\ttotal: 15.3s\tremaining: 4.29s\n",
      "781:\tlearn: 0.4925645\ttotal: 15.3s\tremaining: 4.27s\n",
      "782:\tlearn: 0.4925031\ttotal: 15.3s\tremaining: 4.25s\n",
      "783:\tlearn: 0.4924252\ttotal: 15.3s\tremaining: 4.23s\n",
      "784:\tlearn: 0.4923416\ttotal: 15.4s\tremaining: 4.21s\n",
      "785:\tlearn: 0.4922668\ttotal: 15.4s\tremaining: 4.19s\n",
      "786:\tlearn: 0.4921551\ttotal: 15.4s\tremaining: 4.17s\n",
      "787:\tlearn: 0.4920757\ttotal: 15.4s\tremaining: 4.15s\n",
      "788:\tlearn: 0.4920248\ttotal: 15.4s\tremaining: 4.13s\n",
      "789:\tlearn: 0.4919773\ttotal: 15.5s\tremaining: 4.11s\n",
      "790:\tlearn: 0.4918846\ttotal: 15.5s\tremaining: 4.09s\n",
      "791:\tlearn: 0.4918664\ttotal: 15.5s\tremaining: 4.07s\n",
      "792:\tlearn: 0.4917950\ttotal: 15.5s\tremaining: 4.05s\n",
      "793:\tlearn: 0.4917234\ttotal: 15.5s\tremaining: 4.03s\n",
      "794:\tlearn: 0.4916718\ttotal: 15.6s\tremaining: 4.01s\n",
      "795:\tlearn: 0.4916146\ttotal: 15.6s\tremaining: 3.99s\n",
      "796:\tlearn: 0.4915820\ttotal: 15.6s\tremaining: 3.97s\n",
      "797:\tlearn: 0.4915381\ttotal: 15.6s\tremaining: 3.95s\n",
      "798:\tlearn: 0.4914895\ttotal: 15.6s\tremaining: 3.93s\n",
      "799:\tlearn: 0.4913972\ttotal: 15.7s\tremaining: 3.91s\n",
      "800:\tlearn: 0.4912862\ttotal: 15.7s\tremaining: 3.89s\n",
      "801:\tlearn: 0.4912278\ttotal: 15.7s\tremaining: 3.88s\n",
      "802:\tlearn: 0.4911504\ttotal: 15.7s\tremaining: 3.85s\n",
      "803:\tlearn: 0.4910651\ttotal: 15.7s\tremaining: 3.84s\n",
      "804:\tlearn: 0.4910089\ttotal: 15.8s\tremaining: 3.82s\n",
      "805:\tlearn: 0.4909125\ttotal: 15.8s\tremaining: 3.8s\n",
      "806:\tlearn: 0.4908217\ttotal: 15.8s\tremaining: 3.78s\n",
      "807:\tlearn: 0.4907311\ttotal: 15.8s\tremaining: 3.76s\n",
      "808:\tlearn: 0.4906418\ttotal: 15.8s\tremaining: 3.74s\n",
      "809:\tlearn: 0.4905544\ttotal: 15.8s\tremaining: 3.72s\n",
      "810:\tlearn: 0.4905153\ttotal: 15.9s\tremaining: 3.7s\n",
      "811:\tlearn: 0.4904386\ttotal: 15.9s\tremaining: 3.68s\n",
      "812:\tlearn: 0.4903592\ttotal: 15.9s\tremaining: 3.66s\n",
      "813:\tlearn: 0.4902840\ttotal: 15.9s\tremaining: 3.64s\n",
      "814:\tlearn: 0.4902114\ttotal: 15.9s\tremaining: 3.62s\n",
      "815:\tlearn: 0.4901289\ttotal: 16s\tremaining: 3.6s\n",
      "816:\tlearn: 0.4900000\ttotal: 16s\tremaining: 3.58s\n",
      "817:\tlearn: 0.4899596\ttotal: 16s\tremaining: 3.56s\n",
      "818:\tlearn: 0.4898833\ttotal: 16s\tremaining: 3.54s\n",
      "819:\tlearn: 0.4897968\ttotal: 16s\tremaining: 3.52s\n",
      "820:\tlearn: 0.4897253\ttotal: 16.1s\tremaining: 3.5s\n",
      "821:\tlearn: 0.4896756\ttotal: 16.1s\tremaining: 3.48s\n",
      "822:\tlearn: 0.4895959\ttotal: 16.1s\tremaining: 3.46s\n",
      "823:\tlearn: 0.4895378\ttotal: 16.1s\tremaining: 3.44s\n",
      "824:\tlearn: 0.4894861\ttotal: 16.1s\tremaining: 3.42s\n"
     ]
    },
    {
     "name": "stdout",
     "output_type": "stream",
     "text": [
      "825:\tlearn: 0.4893997\ttotal: 16.2s\tremaining: 3.41s\n",
      "826:\tlearn: 0.4893143\ttotal: 16.2s\tremaining: 3.39s\n",
      "827:\tlearn: 0.4892632\ttotal: 16.2s\tremaining: 3.37s\n",
      "828:\tlearn: 0.4891420\ttotal: 16.2s\tremaining: 3.35s\n",
      "829:\tlearn: 0.4890779\ttotal: 16.2s\tremaining: 3.33s\n",
      "830:\tlearn: 0.4889997\ttotal: 16.3s\tremaining: 3.31s\n",
      "831:\tlearn: 0.4889437\ttotal: 16.3s\tremaining: 3.29s\n",
      "832:\tlearn: 0.4888739\ttotal: 16.3s\tremaining: 3.27s\n",
      "833:\tlearn: 0.4888029\ttotal: 16.3s\tremaining: 3.25s\n",
      "834:\tlearn: 0.4887707\ttotal: 16.3s\tremaining: 3.23s\n",
      "835:\tlearn: 0.4887045\ttotal: 16.4s\tremaining: 3.21s\n",
      "836:\tlearn: 0.4886449\ttotal: 16.4s\tremaining: 3.19s\n",
      "837:\tlearn: 0.4885646\ttotal: 16.4s\tremaining: 3.17s\n",
      "838:\tlearn: 0.4884880\ttotal: 16.4s\tremaining: 3.15s\n",
      "839:\tlearn: 0.4884016\ttotal: 16.4s\tremaining: 3.13s\n",
      "840:\tlearn: 0.4883344\ttotal: 16.5s\tremaining: 3.11s\n",
      "841:\tlearn: 0.4882476\ttotal: 16.5s\tremaining: 3.09s\n",
      "842:\tlearn: 0.4881645\ttotal: 16.5s\tremaining: 3.07s\n",
      "843:\tlearn: 0.4880822\ttotal: 16.5s\tremaining: 3.05s\n",
      "844:\tlearn: 0.4879967\ttotal: 16.5s\tremaining: 3.04s\n",
      "845:\tlearn: 0.4879315\ttotal: 16.6s\tremaining: 3.02s\n",
      "846:\tlearn: 0.4879078\ttotal: 16.6s\tremaining: 3s\n",
      "847:\tlearn: 0.4878598\ttotal: 16.6s\tremaining: 2.98s\n",
      "848:\tlearn: 0.4878234\ttotal: 16.6s\tremaining: 2.96s\n",
      "849:\tlearn: 0.4877509\ttotal: 16.6s\tremaining: 2.94s\n",
      "850:\tlearn: 0.4876759\ttotal: 16.7s\tremaining: 2.92s\n",
      "851:\tlearn: 0.4876128\ttotal: 16.7s\tremaining: 2.9s\n",
      "852:\tlearn: 0.4875574\ttotal: 16.7s\tremaining: 2.88s\n",
      "853:\tlearn: 0.4875152\ttotal: 16.7s\tremaining: 2.86s\n",
      "854:\tlearn: 0.4874718\ttotal: 16.7s\tremaining: 2.84s\n",
      "855:\tlearn: 0.4873801\ttotal: 16.8s\tremaining: 2.82s\n",
      "856:\tlearn: 0.4873225\ttotal: 16.8s\tremaining: 2.8s\n",
      "857:\tlearn: 0.4872520\ttotal: 16.8s\tremaining: 2.78s\n",
      "858:\tlearn: 0.4871916\ttotal: 16.8s\tremaining: 2.76s\n",
      "859:\tlearn: 0.4871087\ttotal: 16.8s\tremaining: 2.74s\n",
      "860:\tlearn: 0.4870346\ttotal: 16.9s\tremaining: 2.72s\n",
      "861:\tlearn: 0.4869707\ttotal: 16.9s\tremaining: 2.7s\n",
      "862:\tlearn: 0.4869201\ttotal: 16.9s\tremaining: 2.68s\n",
      "863:\tlearn: 0.4868578\ttotal: 16.9s\tremaining: 2.66s\n",
      "864:\tlearn: 0.4868116\ttotal: 16.9s\tremaining: 2.64s\n",
      "865:\tlearn: 0.4867429\ttotal: 17s\tremaining: 2.62s\n",
      "866:\tlearn: 0.4866945\ttotal: 17s\tremaining: 2.6s\n",
      "867:\tlearn: 0.4866138\ttotal: 17s\tremaining: 2.58s\n",
      "868:\tlearn: 0.4865215\ttotal: 17s\tremaining: 2.56s\n",
      "869:\tlearn: 0.4864368\ttotal: 17s\tremaining: 2.54s\n",
      "870:\tlearn: 0.4863877\ttotal: 17.1s\tremaining: 2.52s\n",
      "871:\tlearn: 0.4863167\ttotal: 17.1s\tremaining: 2.51s\n",
      "872:\tlearn: 0.4862726\ttotal: 17.1s\tremaining: 2.49s\n",
      "873:\tlearn: 0.4862473\ttotal: 17.1s\tremaining: 2.47s\n",
      "874:\tlearn: 0.4862058\ttotal: 17.1s\tremaining: 2.45s\n",
      "875:\tlearn: 0.4861577\ttotal: 17.1s\tremaining: 2.43s\n",
      "876:\tlearn: 0.4861071\ttotal: 17.2s\tremaining: 2.41s\n",
      "877:\tlearn: 0.4860753\ttotal: 17.2s\tremaining: 2.39s\n",
      "878:\tlearn: 0.4859750\ttotal: 17.2s\tremaining: 2.37s\n",
      "879:\tlearn: 0.4859117\ttotal: 17.2s\tremaining: 2.35s\n",
      "880:\tlearn: 0.4858202\ttotal: 17.3s\tremaining: 2.33s\n",
      "881:\tlearn: 0.4857643\ttotal: 17.3s\tremaining: 2.31s\n",
      "882:\tlearn: 0.4857466\ttotal: 17.3s\tremaining: 2.29s\n",
      "883:\tlearn: 0.4856873\ttotal: 17.3s\tremaining: 2.27s\n",
      "884:\tlearn: 0.4856474\ttotal: 17.3s\tremaining: 2.25s\n",
      "885:\tlearn: 0.4855789\ttotal: 17.3s\tremaining: 2.23s\n",
      "886:\tlearn: 0.4855305\ttotal: 17.4s\tremaining: 2.21s\n",
      "887:\tlearn: 0.4854816\ttotal: 17.4s\tremaining: 2.19s\n",
      "888:\tlearn: 0.4854338\ttotal: 17.4s\tremaining: 2.17s\n",
      "889:\tlearn: 0.4853768\ttotal: 17.4s\tremaining: 2.15s\n",
      "890:\tlearn: 0.4853421\ttotal: 17.4s\tremaining: 2.13s\n",
      "891:\tlearn: 0.4852793\ttotal: 17.5s\tremaining: 2.11s\n",
      "892:\tlearn: 0.4852437\ttotal: 17.5s\tremaining: 2.09s\n",
      "893:\tlearn: 0.4851765\ttotal: 17.5s\tremaining: 2.07s\n",
      "894:\tlearn: 0.4851196\ttotal: 17.5s\tremaining: 2.06s\n",
      "895:\tlearn: 0.4850656\ttotal: 17.5s\tremaining: 2.04s\n",
      "896:\tlearn: 0.4849784\ttotal: 17.6s\tremaining: 2.02s\n",
      "897:\tlearn: 0.4849038\ttotal: 17.6s\tremaining: 2s\n",
      "898:\tlearn: 0.4848438\ttotal: 17.6s\tremaining: 1.98s\n",
      "899:\tlearn: 0.4848056\ttotal: 17.6s\tremaining: 1.96s\n",
      "900:\tlearn: 0.4847071\ttotal: 17.6s\tremaining: 1.94s\n",
      "901:\tlearn: 0.4846201\ttotal: 17.7s\tremaining: 1.92s\n",
      "902:\tlearn: 0.4845282\ttotal: 17.7s\tremaining: 1.9s\n",
      "903:\tlearn: 0.4844476\ttotal: 17.7s\tremaining: 1.88s\n",
      "904:\tlearn: 0.4843751\ttotal: 17.7s\tremaining: 1.86s\n",
      "905:\tlearn: 0.4843354\ttotal: 17.7s\tremaining: 1.84s\n",
      "906:\tlearn: 0.4842904\ttotal: 17.8s\tremaining: 1.82s\n",
      "907:\tlearn: 0.4841973\ttotal: 17.8s\tremaining: 1.8s\n",
      "908:\tlearn: 0.4841263\ttotal: 17.8s\tremaining: 1.78s\n",
      "909:\tlearn: 0.4840842\ttotal: 17.8s\tremaining: 1.76s\n",
      "910:\tlearn: 0.4840304\ttotal: 17.8s\tremaining: 1.74s\n",
      "911:\tlearn: 0.4839651\ttotal: 17.8s\tremaining: 1.72s\n",
      "912:\tlearn: 0.4838915\ttotal: 17.9s\tremaining: 1.7s\n",
      "913:\tlearn: 0.4838485\ttotal: 17.9s\tremaining: 1.68s\n",
      "914:\tlearn: 0.4837803\ttotal: 17.9s\tremaining: 1.66s\n",
      "915:\tlearn: 0.4836847\ttotal: 17.9s\tremaining: 1.64s\n",
      "916:\tlearn: 0.4836099\ttotal: 17.9s\tremaining: 1.62s\n",
      "917:\tlearn: 0.4835596\ttotal: 18s\tremaining: 1.6s\n",
      "918:\tlearn: 0.4834683\ttotal: 18s\tremaining: 1.58s\n",
      "919:\tlearn: 0.4833434\ttotal: 18s\tremaining: 1.56s\n",
      "920:\tlearn: 0.4832916\ttotal: 18s\tremaining: 1.54s\n",
      "921:\tlearn: 0.4832311\ttotal: 18s\tremaining: 1.53s\n",
      "922:\tlearn: 0.4831757\ttotal: 18.1s\tremaining: 1.51s\n",
      "923:\tlearn: 0.4831091\ttotal: 18.1s\tremaining: 1.49s\n",
      "924:\tlearn: 0.4830151\ttotal: 18.1s\tremaining: 1.47s\n",
      "925:\tlearn: 0.4829550\ttotal: 18.1s\tremaining: 1.45s\n",
      "926:\tlearn: 0.4828698\ttotal: 18.1s\tremaining: 1.43s\n",
      "927:\tlearn: 0.4827504\ttotal: 18.2s\tremaining: 1.41s\n",
      "928:\tlearn: 0.4826799\ttotal: 18.2s\tremaining: 1.39s\n",
      "929:\tlearn: 0.4826205\ttotal: 18.2s\tremaining: 1.37s\n",
      "930:\tlearn: 0.4825215\ttotal: 18.2s\tremaining: 1.35s\n",
      "931:\tlearn: 0.4824656\ttotal: 18.2s\tremaining: 1.33s\n",
      "932:\tlearn: 0.4823781\ttotal: 18.3s\tremaining: 1.31s\n",
      "933:\tlearn: 0.4823323\ttotal: 18.3s\tremaining: 1.29s\n",
      "934:\tlearn: 0.4822608\ttotal: 18.3s\tremaining: 1.27s\n",
      "935:\tlearn: 0.4821556\ttotal: 18.3s\tremaining: 1.25s\n",
      "936:\tlearn: 0.4820962\ttotal: 18.4s\tremaining: 1.23s\n",
      "937:\tlearn: 0.4820567\ttotal: 18.4s\tremaining: 1.21s\n",
      "938:\tlearn: 0.4820217\ttotal: 18.4s\tremaining: 1.19s\n",
      "939:\tlearn: 0.4819355\ttotal: 18.4s\tremaining: 1.18s\n",
      "940:\tlearn: 0.4818888\ttotal: 18.4s\tremaining: 1.16s\n",
      "941:\tlearn: 0.4818403\ttotal: 18.4s\tremaining: 1.14s\n",
      "942:\tlearn: 0.4817771\ttotal: 18.5s\tremaining: 1.12s\n",
      "943:\tlearn: 0.4816905\ttotal: 18.5s\tremaining: 1.1s\n",
      "944:\tlearn: 0.4816042\ttotal: 18.5s\tremaining: 1.08s\n",
      "945:\tlearn: 0.4815500\ttotal: 18.5s\tremaining: 1.06s\n",
      "946:\tlearn: 0.4814878\ttotal: 18.6s\tremaining: 1.04s\n",
      "947:\tlearn: 0.4814004\ttotal: 18.6s\tremaining: 1.02s\n",
      "948:\tlearn: 0.4813535\ttotal: 18.6s\tremaining: 999ms\n",
      "949:\tlearn: 0.4812959\ttotal: 18.6s\tremaining: 979ms\n",
      "950:\tlearn: 0.4812186\ttotal: 18.6s\tremaining: 960ms\n",
      "951:\tlearn: 0.4811192\ttotal: 18.6s\tremaining: 940ms\n",
      "952:\tlearn: 0.4810665\ttotal: 18.7s\tremaining: 921ms\n",
      "953:\tlearn: 0.4810264\ttotal: 18.7s\tremaining: 901ms\n",
      "954:\tlearn: 0.4809608\ttotal: 18.7s\tremaining: 881ms\n",
      "955:\tlearn: 0.4809198\ttotal: 18.7s\tremaining: 862ms\n",
      "956:\tlearn: 0.4808911\ttotal: 18.7s\tremaining: 842ms\n",
      "957:\tlearn: 0.4808547\ttotal: 18.8s\tremaining: 822ms\n",
      "958:\tlearn: 0.4807683\ttotal: 18.8s\tremaining: 803ms\n",
      "959:\tlearn: 0.4806897\ttotal: 18.8s\tremaining: 783ms\n",
      "960:\tlearn: 0.4806289\ttotal: 18.8s\tremaining: 764ms\n",
      "961:\tlearn: 0.4805918\ttotal: 18.8s\tremaining: 744ms\n",
      "962:\tlearn: 0.4805418\ttotal: 18.9s\tremaining: 724ms\n",
      "963:\tlearn: 0.4804884\ttotal: 18.9s\tremaining: 705ms\n",
      "964:\tlearn: 0.4804086\ttotal: 18.9s\tremaining: 685ms\n",
      "965:\tlearn: 0.4803508\ttotal: 18.9s\tremaining: 666ms\n",
      "966:\tlearn: 0.4803012\ttotal: 18.9s\tremaining: 646ms\n",
      "967:\tlearn: 0.4802257\ttotal: 18.9s\tremaining: 626ms\n",
      "968:\tlearn: 0.4801409\ttotal: 19s\tremaining: 607ms\n",
      "969:\tlearn: 0.4800575\ttotal: 19s\tremaining: 587ms\n",
      "970:\tlearn: 0.4799838\ttotal: 19s\tremaining: 568ms\n",
      "971:\tlearn: 0.4798959\ttotal: 19s\tremaining: 548ms\n",
      "972:\tlearn: 0.4798124\ttotal: 19s\tremaining: 529ms\n",
      "973:\tlearn: 0.4797426\ttotal: 19.1s\tremaining: 509ms\n",
      "974:\tlearn: 0.4796787\ttotal: 19.1s\tremaining: 489ms\n",
      "975:\tlearn: 0.4796242\ttotal: 19.1s\tremaining: 470ms\n",
      "976:\tlearn: 0.4796053\ttotal: 19.1s\tremaining: 450ms\n",
      "977:\tlearn: 0.4795565\ttotal: 19.1s\tremaining: 431ms\n",
      "978:\tlearn: 0.4795010\ttotal: 19.2s\tremaining: 411ms\n",
      "979:\tlearn: 0.4794294\ttotal: 19.2s\tremaining: 391ms\n",
      "980:\tlearn: 0.4794115\ttotal: 19.2s\tremaining: 372ms\n",
      "981:\tlearn: 0.4793683\ttotal: 19.2s\tremaining: 352ms\n",
      "982:\tlearn: 0.4793030\ttotal: 19.2s\tremaining: 333ms\n",
      "983:\tlearn: 0.4792139\ttotal: 19.3s\tremaining: 313ms\n",
      "984:\tlearn: 0.4791402\ttotal: 19.3s\tremaining: 294ms\n",
      "985:\tlearn: 0.4790690\ttotal: 19.3s\tremaining: 274ms\n",
      "986:\tlearn: 0.4789988\ttotal: 19.3s\tremaining: 254ms\n",
      "987:\tlearn: 0.4789370\ttotal: 19.3s\tremaining: 235ms\n",
      "988:\tlearn: 0.4788844\ttotal: 19.4s\tremaining: 215ms\n"
     ]
    },
    {
     "name": "stdout",
     "output_type": "stream",
     "text": [
      "989:\tlearn: 0.4788165\ttotal: 19.4s\tremaining: 196ms\n",
      "990:\tlearn: 0.4787067\ttotal: 19.4s\tremaining: 176ms\n",
      "991:\tlearn: 0.4786068\ttotal: 19.4s\tremaining: 157ms\n",
      "992:\tlearn: 0.4785283\ttotal: 19.4s\tremaining: 137ms\n",
      "993:\tlearn: 0.4784401\ttotal: 19.4s\tremaining: 117ms\n",
      "994:\tlearn: 0.4783837\ttotal: 19.5s\tremaining: 97.8ms\n",
      "995:\tlearn: 0.4783038\ttotal: 19.5s\tremaining: 78.3ms\n",
      "996:\tlearn: 0.4782590\ttotal: 19.5s\tremaining: 58.7ms\n",
      "997:\tlearn: 0.4782178\ttotal: 19.5s\tremaining: 39.1ms\n",
      "998:\tlearn: 0.4781331\ttotal: 19.5s\tremaining: 19.6ms\n",
      "999:\tlearn: 0.4780723\ttotal: 19.6s\tremaining: 0us\n"
     ]
    },
    {
     "data": {
      "text/plain": [
       "<catboost.core.CatBoostClassifier at 0x1e8a0302190>"
      ]
     },
     "execution_count": 50,
     "metadata": {},
     "output_type": "execute_result"
    }
   ],
   "source": [
    "catboost_model.fit(X_train, Y_train)"
   ]
  },
  {
   "cell_type": "code",
   "execution_count": 51,
   "id": "86f1fe83",
   "metadata": {},
   "outputs": [],
   "source": [
    "catboost_pred = catboost_model.predict(X_test)"
   ]
  },
  {
   "cell_type": "code",
   "execution_count": 52,
   "id": "681cd361",
   "metadata": {},
   "outputs": [
    {
     "data": {
      "text/plain": [
       "0.722293174400454"
      ]
     },
     "execution_count": 52,
     "metadata": {},
     "output_type": "execute_result"
    }
   ],
   "source": [
    "f1_score(Y_test,catboost_pred, average=\"micro\" )"
   ]
  },
  {
   "cell_type": "code",
   "execution_count": 53,
   "id": "ea1a9120",
   "metadata": {},
   "outputs": [
    {
     "name": "stdout",
     "output_type": "stream",
     "text": [
      "              precision    recall  f1-score   support\n",
      "\n",
      "           0       0.74      0.87      0.80      4510\n",
      "           1       0.67      0.45      0.54      2537\n",
      "\n",
      "    accuracy                           0.72      7047\n",
      "   macro avg       0.70      0.66      0.67      7047\n",
      "weighted avg       0.71      0.72      0.71      7047\n",
      "\n"
     ]
    }
   ],
   "source": [
    "print(classification_report(Y_test,catboost_pred ))"
   ]
  },
  {
   "cell_type": "markdown",
   "id": "635ac835",
   "metadata": {},
   "source": [
    "# LightGBM Model"
   ]
  },
  {
   "cell_type": "code",
   "execution_count": 54,
   "id": "38527d75",
   "metadata": {},
   "outputs": [],
   "source": [
    "lgb_model = lgb.LGBMClassifier(random_state=7)"
   ]
  },
  {
   "cell_type": "code",
   "execution_count": 55,
   "id": "affaaa57",
   "metadata": {},
   "outputs": [
    {
     "name": "stdout",
     "output_type": "stream",
     "text": [
      "[LightGBM] [Warning] Found whitespace in feature_names, replace with underlines\n",
      "[LightGBM] [Info] Number of positive: 5892, number of negative: 10551\n",
      "[LightGBM] [Info] Auto-choosing row-wise multi-threading, the overhead of testing was 0.001785 seconds.\n",
      "You can set `force_row_wise=true` to remove the overhead.\n",
      "And if memory is not enough, you can set `force_col_wise=true`.\n",
      "[LightGBM] [Info] Total Bins 260\n",
      "[LightGBM] [Info] Number of data points in the train set: 16443, number of used features: 62\n",
      "[LightGBM] [Info] [binary:BoostFromScore]: pavg=0.358329 -> initscore=-0.582625\n",
      "[LightGBM] [Info] Start training from score -0.582625\n"
     ]
    },
    {
     "data": {
      "text/html": [
       "<style>#sk-container-id-2 {color: black;}#sk-container-id-2 pre{padding: 0;}#sk-container-id-2 div.sk-toggleable {background-color: white;}#sk-container-id-2 label.sk-toggleable__label {cursor: pointer;display: block;width: 100%;margin-bottom: 0;padding: 0.3em;box-sizing: border-box;text-align: center;}#sk-container-id-2 label.sk-toggleable__label-arrow:before {content: \"▸\";float: left;margin-right: 0.25em;color: #696969;}#sk-container-id-2 label.sk-toggleable__label-arrow:hover:before {color: black;}#sk-container-id-2 div.sk-estimator:hover label.sk-toggleable__label-arrow:before {color: black;}#sk-container-id-2 div.sk-toggleable__content {max-height: 0;max-width: 0;overflow: hidden;text-align: left;background-color: #f0f8ff;}#sk-container-id-2 div.sk-toggleable__content pre {margin: 0.2em;color: black;border-radius: 0.25em;background-color: #f0f8ff;}#sk-container-id-2 input.sk-toggleable__control:checked~div.sk-toggleable__content {max-height: 200px;max-width: 100%;overflow: auto;}#sk-container-id-2 input.sk-toggleable__control:checked~label.sk-toggleable__label-arrow:before {content: \"▾\";}#sk-container-id-2 div.sk-estimator input.sk-toggleable__control:checked~label.sk-toggleable__label {background-color: #d4ebff;}#sk-container-id-2 div.sk-label input.sk-toggleable__control:checked~label.sk-toggleable__label {background-color: #d4ebff;}#sk-container-id-2 input.sk-hidden--visually {border: 0;clip: rect(1px 1px 1px 1px);clip: rect(1px, 1px, 1px, 1px);height: 1px;margin: -1px;overflow: hidden;padding: 0;position: absolute;width: 1px;}#sk-container-id-2 div.sk-estimator {font-family: monospace;background-color: #f0f8ff;border: 1px dotted black;border-radius: 0.25em;box-sizing: border-box;margin-bottom: 0.5em;}#sk-container-id-2 div.sk-estimator:hover {background-color: #d4ebff;}#sk-container-id-2 div.sk-parallel-item::after {content: \"\";width: 100%;border-bottom: 1px solid gray;flex-grow: 1;}#sk-container-id-2 div.sk-label:hover label.sk-toggleable__label {background-color: #d4ebff;}#sk-container-id-2 div.sk-serial::before {content: \"\";position: absolute;border-left: 1px solid gray;box-sizing: border-box;top: 0;bottom: 0;left: 50%;z-index: 0;}#sk-container-id-2 div.sk-serial {display: flex;flex-direction: column;align-items: center;background-color: white;padding-right: 0.2em;padding-left: 0.2em;position: relative;}#sk-container-id-2 div.sk-item {position: relative;z-index: 1;}#sk-container-id-2 div.sk-parallel {display: flex;align-items: stretch;justify-content: center;background-color: white;position: relative;}#sk-container-id-2 div.sk-item::before, #sk-container-id-2 div.sk-parallel-item::before {content: \"\";position: absolute;border-left: 1px solid gray;box-sizing: border-box;top: 0;bottom: 0;left: 50%;z-index: -1;}#sk-container-id-2 div.sk-parallel-item {display: flex;flex-direction: column;z-index: 1;position: relative;background-color: white;}#sk-container-id-2 div.sk-parallel-item:first-child::after {align-self: flex-end;width: 50%;}#sk-container-id-2 div.sk-parallel-item:last-child::after {align-self: flex-start;width: 50%;}#sk-container-id-2 div.sk-parallel-item:only-child::after {width: 0;}#sk-container-id-2 div.sk-dashed-wrapped {border: 1px dashed gray;margin: 0 0.4em 0.5em 0.4em;box-sizing: border-box;padding-bottom: 0.4em;background-color: white;}#sk-container-id-2 div.sk-label label {font-family: monospace;font-weight: bold;display: inline-block;line-height: 1.2em;}#sk-container-id-2 div.sk-label-container {text-align: center;}#sk-container-id-2 div.sk-container {/* jupyter's `normalize.less` sets `[hidden] { display: none; }` but bootstrap.min.css set `[hidden] { display: none !important; }` so we also need the `!important` here to be able to override the default hidden behavior on the sphinx rendered scikit-learn.org. See: https://github.com/scikit-learn/scikit-learn/issues/21755 */display: inline-block !important;position: relative;}#sk-container-id-2 div.sk-text-repr-fallback {display: none;}</style><div id=\"sk-container-id-2\" class=\"sk-top-container\"><div class=\"sk-text-repr-fallback\"><pre>LGBMClassifier(random_state=7)</pre><b>In a Jupyter environment, please rerun this cell to show the HTML representation or trust the notebook. <br />On GitHub, the HTML representation is unable to render, please try loading this page with nbviewer.org.</b></div><div class=\"sk-container\" hidden><div class=\"sk-item\"><div class=\"sk-estimator sk-toggleable\"><input class=\"sk-toggleable__control sk-hidden--visually\" id=\"sk-estimator-id-2\" type=\"checkbox\" checked><label for=\"sk-estimator-id-2\" class=\"sk-toggleable__label sk-toggleable__label-arrow\">LGBMClassifier</label><div class=\"sk-toggleable__content\"><pre>LGBMClassifier(random_state=7)</pre></div></div></div></div></div>"
      ],
      "text/plain": [
       "LGBMClassifier(random_state=7)"
      ]
     },
     "execution_count": 55,
     "metadata": {},
     "output_type": "execute_result"
    }
   ],
   "source": [
    "lgb_model.fit(X_train, Y_train)"
   ]
  },
  {
   "cell_type": "code",
   "execution_count": 56,
   "id": "e99291a4",
   "metadata": {},
   "outputs": [],
   "source": [
    "lgb_pred = lgb_model.predict(X_test)"
   ]
  },
  {
   "cell_type": "code",
   "execution_count": 57,
   "id": "2f30c240",
   "metadata": {},
   "outputs": [
    {
     "data": {
      "text/plain": [
       "0.7193131829147155"
      ]
     },
     "execution_count": 57,
     "metadata": {},
     "output_type": "execute_result"
    }
   ],
   "source": [
    "f1_score(Y_test,lgb_pred, average=\"micro\" )"
   ]
  },
  {
   "cell_type": "code",
   "execution_count": 58,
   "id": "f6e1a974",
   "metadata": {},
   "outputs": [
    {
     "name": "stdout",
     "output_type": "stream",
     "text": [
      "              precision    recall  f1-score   support\n",
      "\n",
      "           0       0.73      0.88      0.80      4510\n",
      "           1       0.67      0.44      0.53      2537\n",
      "\n",
      "    accuracy                           0.72      7047\n",
      "   macro avg       0.70      0.66      0.66      7047\n",
      "weighted avg       0.71      0.72      0.70      7047\n",
      "\n"
     ]
    }
   ],
   "source": [
    "print(classification_report(Y_test,lgb_pred ))"
   ]
  },
  {
   "cell_type": "markdown",
   "id": "de3eb2c1",
   "metadata": {},
   "source": [
    "# Function To Evaluate Each Combination of Scaling Function and Model Using Confusion Matrices"
   ]
  },
  {
   "cell_type": "code",
   "execution_count": 73,
   "id": "073a4fe2",
   "metadata": {},
   "outputs": [],
   "source": [
    "def evaluate_scaling_models(X_train, X_test, Y_train, Y_test, scaler_names, models):\n",
    "    results = {}\n",
    "    \n",
    "    for scaler_name in scaler_names:\n",
    "        for model_name, model in models.items():\n",
    "            # Scale the data\n",
    "            X_train_scaled = scale_dataset(X_train, [scaler_name])[scaler_name]\n",
    "            X_test_scaled = scale_dataset(X_test, [scaler_name])[scaler_name]\n",
    "            \n",
    "            # Train the model\n",
    "            model.fit(X_train_scaled, Y_train)\n",
    "            \n",
    "            # Predict\n",
    "            Y_pred = model.predict(X_test_scaled)\n",
    "            \n",
    "            # Calculate confusion matrix\n",
    "            cm = confusion_matrix(Y_test, Y_pred)\n",
    "            results[(scaler_name, model_name)] = cm\n",
    "    \n",
    "    return results"
   ]
  },
  {
   "cell_type": "markdown",
   "id": "35581229",
   "metadata": {},
   "source": [
    "# Import Libraries To Plot Confusion Matrix"
   ]
  },
  {
   "cell_type": "code",
   "execution_count": 74,
   "id": "d7205225",
   "metadata": {},
   "outputs": [],
   "source": [
    "from sklearn.metrics import confusion_matrix\n",
    "import seaborn as sns\n",
    "import matplotlib.pyplot as plt"
   ]
  },
  {
   "cell_type": "markdown",
   "id": "9fb2bc41",
   "metadata": {},
   "source": [
    "# Function To Plot Confusion Matrix"
   ]
  },
  {
   "cell_type": "code",
   "execution_count": 75,
   "id": "c0876911",
   "metadata": {},
   "outputs": [],
   "source": [
    "def plot_confusion_matrix(cm, scaler_name, model_name):\n",
    "    plt.figure(figsize=(8, 6))\n",
    "    sns.heatmap(cm, annot=True, fmt=\"d\", cmap=\"Blues\", \n",
    "                xticklabels=['Predicted 0', 'Predicted 1'], \n",
    "                yticklabels=['Actual 0', 'Actual 1'])\n",
    "    plt.title(f\"Confusion Matrix - {model_name} with {scaler_name}\")\n",
    "    plt.xlabel('Predicted Label')\n",
    "    plt.ylabel('True Label')\n",
    "    plt.show()"
   ]
  },
  {
   "cell_type": "markdown",
   "id": "e88d59f9",
   "metadata": {},
   "source": [
    "# Define The Models and The Scaling Techniques"
   ]
  },
  {
   "cell_type": "code",
   "execution_count": 76,
   "id": "64c939f6",
   "metadata": {},
   "outputs": [],
   "source": [
    "models = {\n",
    "    \"XGBoost\": xgb.XGBClassifier(),\n",
    "    \"CatBoost\": CatBoostClassifier(verbose=False),\n",
    "    \"LightGBM\": lgb.LGBMClassifier()\n",
    "}\n",
    "\n",
    "scaler_names = ['RobustScaler', 'StandardScaler', 'MinMaxScaler', 'MaxAbsScaler']"
   ]
  },
  {
   "cell_type": "markdown",
   "id": "2c4a362a",
   "metadata": {},
   "source": [
    "# Evaluate The Models"
   ]
  },
  {
   "cell_type": "code",
   "execution_count": 77,
   "id": "81c4f900",
   "metadata": {},
   "outputs": [
    {
     "name": "stdout",
     "output_type": "stream",
     "text": [
      "[LightGBM] [Info] Number of positive: 5892, number of negative: 10551\n",
      "[LightGBM] [Info] Auto-choosing row-wise multi-threading, the overhead of testing was 0.002378 seconds.\n",
      "You can set `force_row_wise=true` to remove the overhead.\n",
      "And if memory is not enough, you can set `force_col_wise=true`.\n",
      "[LightGBM] [Info] Total Bins 256\n",
      "[LightGBM] [Info] Number of data points in the train set: 16443, number of used features: 62\n",
      "[LightGBM] [Info] [binary:BoostFromScore]: pavg=0.358329 -> initscore=-0.582625\n",
      "[LightGBM] [Info] Start training from score -0.582625\n",
      "[LightGBM] [Info] Number of positive: 5892, number of negative: 10551\n",
      "[LightGBM] [Info] Auto-choosing col-wise multi-threading, the overhead of testing was 0.009416 seconds.\n",
      "You can set `force_col_wise=true` to remove the overhead.\n",
      "[LightGBM] [Info] Total Bins 318\n",
      "[LightGBM] [Info] Number of data points in the train set: 16443, number of used features: 62\n",
      "[LightGBM] [Info] [binary:BoostFromScore]: pavg=0.358329 -> initscore=-0.582625\n",
      "[LightGBM] [Info] Start training from score -0.582625\n",
      "[LightGBM] [Info] Number of positive: 5892, number of negative: 10551\n",
      "[LightGBM] [Info] Auto-choosing row-wise multi-threading, the overhead of testing was 0.001800 seconds.\n",
      "You can set `force_row_wise=true` to remove the overhead.\n",
      "And if memory is not enough, you can set `force_col_wise=true`.\n",
      "[LightGBM] [Info] Total Bins 256\n",
      "[LightGBM] [Info] Number of data points in the train set: 16443, number of used features: 62\n",
      "[LightGBM] [Info] [binary:BoostFromScore]: pavg=0.358329 -> initscore=-0.582625\n",
      "[LightGBM] [Info] Start training from score -0.582625\n",
      "[LightGBM] [Info] Number of positive: 5892, number of negative: 10551\n",
      "[LightGBM] [Info] Auto-choosing row-wise multi-threading, the overhead of testing was 0.001690 seconds.\n",
      "You can set `force_row_wise=true` to remove the overhead.\n",
      "And if memory is not enough, you can set `force_col_wise=true`.\n",
      "[LightGBM] [Info] Total Bins 260\n",
      "[LightGBM] [Info] Number of data points in the train set: 16443, number of used features: 62\n",
      "[LightGBM] [Info] [binary:BoostFromScore]: pavg=0.358329 -> initscore=-0.582625\n",
      "[LightGBM] [Info] Start training from score -0.582625\n"
     ]
    }
   ],
   "source": [
    "results = evaluate_scaling_models(X_train, X_test, Y_train, Y_test, scaler_names, models)"
   ]
  },
  {
   "cell_type": "markdown",
   "id": "35341f80",
   "metadata": {},
   "source": [
    "# Plot The Confusion Matrices"
   ]
  },
  {
   "cell_type": "code",
   "execution_count": 78,
   "id": "124715c0",
   "metadata": {},
   "outputs": [
    {
     "data": {
      "image/png": "[encoded data removed]",
      "text/plain": [
       "<Figure size 800x600 with 2 Axes>"
      ]
     },
     "metadata": {},
     "output_type": "display_data"
    },
    {
     "data": {
      "image/png": "[encoded data removed]",
      "text/plain": [
       "<Figure size 800x600 with 2 Axes>"
      ]
     },
     "metadata": {},
     "output_type": "display_data"
    },
    {
     "data": {
      "image/png": "[encoded data removed]",
      "text/plain": [
       "<Figure size 800x600 with 2 Axes>"
      ]
     },
     "metadata": {},
     "output_type": "display_data"
    },
    {
     "data": {
      "image/png": "[encoded data removed]",
      "text/plain": [
       "<Figure size 800x600 with 2 Axes>"
      ]
     },
     "metadata": {},
     "output_type": "display_data"
    },
    {
     "data": {
      "image/png": "[encoded data removed]",
      "text/plain": [
       "<Figure size 800x600 with 2 Axes>"
      ]
     },
     "metadata": {},
     "output_type": "display_data"
    },
    {
     "data": {
      "image/png": "[encoded data removed]",
      "text/plain": [
       "<Figure size 800x600 with 2 Axes>"
      ]
     },
     "metadata": {},
     "output_type": "display_data"
    },
    {
     "data": {
      "image/png": "[encoded data removed]",
      "text/plain": [
       "<Figure size 800x600 with 2 Axes>"
      ]
     },
     "metadata": {},
     "output_type": "display_data"
    },
    {
     "data": {
      "image/png": "[encoded data removed]",
      "text/plain": [
       "<Figure size 800x600 with 2 Axes>"
      ]
     },
     "metadata": {},
     "output_type": "display_data"
    },
    {
     "data": {
      "image/png": "[encoded data removed]",
      "text/plain": [
       "<Figure size 800x600 with 2 Axes>"
      ]
     },
     "metadata": {},
     "output_type": "display_data"
    },
    {
     "data": {
      "image/png": "[encoded data removed]",
      "text/plain": [
       "<Figure size 800x600 with 2 Axes>"
      ]
     },
     "metadata": {},
     "output_type": "display_data"
    },
    {
     "data": {
      "image/png": "[encoded data removed]",
      "text/plain": [
       "<Figure size 800x600 with 2 Axes>"
      ]
     },
     "metadata": {},
     "output_type": "display_data"
    },
    {
     "data": {
      "image/png": "[encoded data removed]",
      "text/plain": [
       "<Figure size 800x600 with 2 Axes>"
      ]
     },
     "metadata": {},
     "output_type": "display_data"
    }
   ],
   "source": [
    "for (scaler_name, model_name), cm in results.items():\n",
    "    plot_confusion_matrix(cm, scaler_name, model_name)"
   ]
  },
  {
   "cell_type": "markdown",
   "id": "97bc96cc",
   "metadata": {},
   "source": [
    "# To Determine The Best Scaling Function and Model Based on Accuracy"
   ]
  },
  {
   "cell_type": "code",
   "execution_count": 79,
   "id": "197cc628",
   "metadata": {},
   "outputs": [
    {
     "name": "stdout",
     "output_type": "stream",
     "text": [
      "Best Scaling Function and Model Combination:\n",
      "Scaling Function: StandardScaler\n",
      "Model: CatBoost\n",
      "Accuracy: 0.7215836526181354\n"
     ]
    }
   ],
   "source": [
    "best_accuracy = 0\n",
    "best_combination = None\n",
    "\n",
    "for (scaler_name, model_name), cm in results.items():\n",
    "    accuracy = (cm[0,0] + cm[1,1]) / cm.sum()\n",
    "    if accuracy > best_accuracy:\n",
    "        best_accuracy = accuracy\n",
    "        best_combination = (scaler_name, model_name)\n",
    "\n",
    "print(\"Best Scaling Function and Model Combination:\")\n",
    "print(\"Scaling Function:\", best_combination[0])\n",
    "print(\"Model:\", best_combination[1])\n",
    "print(\"Accuracy:\", best_accuracy)"
   ]
  },
  {
   "cell_type": "code",
   "execution_count": null,
   "id": "5a57afa6",
   "metadata": {},
   "outputs": [],
   "source": []
  }
 ],
 "metadata": {
  "kernelspec": {
   "display_name": "Python 3 (ipykernel)",
   "language": "python",
   "name": "python3"
  },
  "language_info": {
   "codemirror_mode": {
    "name": "ipython",
    "version": 3
   },
   "file_extension": ".py",
   "mimetype": "text/x-python",
   "name": "python",
   "nbconvert_exporter": "python",
   "pygments_lexer": "ipython3",
   "version": "3.11.4"
  }
 },
 "nbformat": 4,
 "nbformat_minor": 5
}
